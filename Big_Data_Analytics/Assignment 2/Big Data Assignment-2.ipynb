{
 "cells": [
  {
   "cell_type": "code",
   "execution_count": 1,
   "metadata": {
    "collapsed": true
   },
   "outputs": [],
   "source": [
    "from pyspark import SparkContext\n",
    "from pyspark import SparkConf\n",
    "import io\n",
    "from tifffile import TiffFile \n",
    "import numpy as np\n",
    "import zipfile\n",
    "from PIL import Image \n",
    "import hashlib\n",
    "from scipy import linalg "
   ]
  },
  {
   "cell_type": "code",
   "execution_count": 2,
   "metadata": {},
   "outputs": [],
   "source": [
    "conf = SparkConf().setAppName(\"SatelliteProject\").setMaster(\"local\").set(\"spark.executor.memory\", \"3g\")\n",
    "sc = SparkContext(conf=conf)\n",
    "sc.setLogLevel(\"ERROR\")"
   ]
  },
  {
   "cell_type": "markdown",
   "metadata": {},
   "source": [
    "### Part - 1"
   ]
  },
  {
   "cell_type": "code",
   "execution_count": 3,
   "metadata": {},
   "outputs": [
    {
     "name": "stdout",
     "output_type": "stream",
     "text": [
      "3677453_2025190.zip\n",
      "3677454_2025195.zip\n",
      "3677500_2035190.zip\n",
      "3677501_2035195.zip\n",
      "3677502_2035200.zip\n"
     ]
    }
   ],
   "source": [
    "rdd = sc.binaryFiles('/Users/jatingarg/Desktop/Satellite_BigData/a2_small_sample/')\n",
    "fileNameList = rdd.map(lambda key: key[0].split(\"/\")).flatMap(lambda key: key).\\\n",
    "                filter(lambda key: str(key).__contains__(\".zip\")).collect()\n",
    "zipName_broadcast = sc.broadcast(set(fileNameList))\n",
    "for fileName in zipName_broadcast.value:\n",
    "    print(fileName)"
   ]
  },
  {
   "cell_type": "code",
   "execution_count": 4,
   "metadata": {},
   "outputs": [
    {
     "name": "stdout",
     "output_type": "stream",
     "text": [
      "True\n"
     ]
    }
   ],
   "source": [
    "if \"3677502_2035200.zip\" in zipName_broadcast.value:\n",
    "    print(True)"
   ]
  },
  {
   "cell_type": "code",
   "execution_count": 5,
   "metadata": {
    "collapsed": true
   },
   "outputs": [],
   "source": [
    "ques1_lis = ['3677454_2025195.zip-0', '3677454_2025195.zip-1', '3677454_2025195.zip-18', '3677454_2025195.zip-19']"
   ]
  },
  {
   "cell_type": "code",
   "execution_count": 300,
   "metadata": {},
   "outputs": [],
   "source": [
    "rdd_1 = sc.binaryFiles('/Users/jatingarg/Desktop/Satellite_BigData/a2_small_sample/')\n",
    "imageRDD = rdd_1.map(lambda key: (key[0],getOrthoTif(key[1]))).map(lambda key: divideImages(key)).\\\n",
    "            flatMap(lambda key: key)\n",
    "filesList = imageRDD.filter(lambda key: key[0] in ques1_lis).collect()"
   ]
  },
  {
   "cell_type": "code",
   "execution_count": 10,
   "metadata": {},
   "outputs": [
    {
     "data": {
      "text/plain": [
       "4"
      ]
     },
     "execution_count": 10,
     "metadata": {},
     "output_type": "execute_result"
    }
   ],
   "source": [
    "len(filesList)"
   ]
  },
  {
   "cell_type": "code",
   "execution_count": 11,
   "metadata": {},
   "outputs": [
    {
     "name": "stdout",
     "output_type": "stream",
     "text": [
      "<class 'numpy.ndarray'>\n"
     ]
    }
   ],
   "source": [
    "print(type(filesList[0][1]))"
   ]
  },
  {
   "cell_type": "code",
   "execution_count": 7,
   "metadata": {
    "collapsed": true
   },
   "outputs": [],
   "source": [
    "def divideImages(key):\n",
    "    fileName = key[0].split(\"/\")\n",
    "    name = str()\n",
    "    for file in fileName:\n",
    "        if file in zipName_broadcast.value:\n",
    "            name = file\n",
    "            break\n",
    "    imageArray = key[1]\n",
    "    tupList = list()\n",
    "    tupList.clear()\n",
    "    for i in range(0,len(imageArray),len(imageArray)//5):\n",
    "        for j in range(0,len(imageArray[0]),len(imageArray[0])//5):\n",
    "            tempArr = [[0 for i in range(500)] for j in range(500)]\n",
    "            for p in range(i,i+500,1):\n",
    "                for q in range(j,j+500,1):\n",
    "                    tempArr[p%500][q%500] = imageArray[p][q]\n",
    "            tupList.append(np.array(tempArr))\n",
    "    nameImageList = list()\n",
    "    for i in range(len(tupList)):\n",
    "        nameImageList.append((name+\"-\"+str(i),tupList[i]))\n",
    "    return nameImageList"
   ]
  },
  {
   "cell_type": "code",
   "execution_count": 8,
   "metadata": {
    "collapsed": true
   },
   "outputs": [],
   "source": [
    "def getOrthoTif(zfBytes):\n",
    "#given a zipfile as bytes (i.e. from reading from a binary file),\n",
    "# return a np array of rgbx values for each pixel\n",
    "    bytesio = io.BytesIO(zfBytes)\n",
    "    zfiles = zipfile.ZipFile(bytesio, \"r\")\n",
    "    #find tif:\n",
    "    for fn in zfiles.namelist():\n",
    "        if fn[-4:] == '.tif':#found it, turn into array:\n",
    "            tif = TiffFile(io.BytesIO(zfiles.open(fn).read()))\n",
    "    return tif.asarray()"
   ]
  },
  {
   "cell_type": "markdown",
   "metadata": {},
   "source": [
    "### Result - Part -1"
   ]
  },
  {
   "cell_type": "code",
   "execution_count": 12,
   "metadata": {},
   "outputs": [
    {
     "name": "stdout",
     "output_type": "stream",
     "text": [
      "3677454_2025195.zip-0 [114 111 109 114]\n",
      "3677454_2025195.zip-1 [ 54  53  57 117]\n",
      "3677454_2025195.zip-18 [ 79  70  66 123]\n",
      "3677454_2025195.zip-19 [61 57 63 84]\n"
     ]
    }
   ],
   "source": [
    "lis = ['3677454_2025195.zip-0', '3677454_2025195.zip-1', '3677454_2025195.zip-18', '3677454_2025195.zip-19']\n",
    "for tup in filesList:\n",
    "    if tup[0] in lis:\n",
    "        print(tup[0],tup[1][0][0])"
   ]
  },
  {
   "cell_type": "code",
   "execution_count": 13,
   "metadata": {},
   "outputs": [
    {
     "data": {
      "text/plain": [
       "array([114, 111, 109, 114], dtype=uint8)"
      ]
     },
     "execution_count": 13,
     "metadata": {},
     "output_type": "execute_result"
    }
   ],
   "source": [
    "filesList[0][1][0][0]"
   ]
  },
  {
   "cell_type": "markdown",
   "metadata": {
    "collapsed": true
   },
   "source": [
    "### Part - 2"
   ]
  },
  {
   "cell_type": "code",
   "execution_count": 303,
   "metadata": {
    "collapsed": true
   },
   "outputs": [],
   "source": [
    "imageRdd_1 = imageRDD.map(lambda key: (key[0],calculateIntensity(key[1])))"
   ]
  },
  {
   "cell_type": "code",
   "execution_count": 304,
   "metadata": {},
   "outputs": [
    {
     "name": "stdout",
     "output_type": "stream",
     "text": [
      "6\n"
     ]
    }
   ],
   "source": [
    "print(lis[0][1][0][0])"
   ]
  },
  {
   "cell_type": "code",
   "execution_count": 305,
   "metadata": {
    "collapsed": true
   },
   "outputs": [],
   "source": [
    "def calculateIntensity(matrix):\n",
    "    temp = [[0 for i in range(len(matrix[0]))] for j in range(len(matrix))]\n",
    "    for i in range(len(matrix)):\n",
    "        for j in range(len(matrix[0])):\n",
    "            pixel = matrix[i][j]\n",
    "            intensity = getIntensityFromRGBI(pixel)\n",
    "            temp[i][j] = intensity\n",
    "    return temp"
   ]
  },
  {
   "cell_type": "code",
   "execution_count": 306,
   "metadata": {
    "collapsed": true
   },
   "outputs": [],
   "source": [
    "def getIntensityFromRGBI(pixel):\n",
    "    r = pixel[0]\n",
    "    g = pixel[1]\n",
    "    b = pixel[2]\n",
    "    I = pixel[3]\n",
    "    rgb_mean = (r+g+b)/3\n",
    "    intensity = int(rgb_mean * (I/100))\n",
    "    return intensity"
   ]
  },
  {
   "cell_type": "code",
   "execution_count": 307,
   "metadata": {
    "collapsed": true
   },
   "outputs": [],
   "source": [
    "imageRdd_2 = imageRdd_1.map(lambda key: (key[0],reductionResolution(key[1],10)))"
   ]
  },
  {
   "cell_type": "code",
   "execution_count": 308,
   "metadata": {
    "collapsed": true
   },
   "outputs": [],
   "source": [
    "def reductionResolution(matrix,factor):\n",
    "    matrix = np.array(matrix)\n",
    "    temp = [[0 for i in range(len(matrix[0])//factor)] for j in range(len(matrix)//factor)]\n",
    "    for i in range(0,len(matrix),factor):\n",
    "        for j in range(0,len(matrix[0]),factor):\n",
    "            temp[i//factor][j//factor] = getMeanOverFactor(matrix[i:i+factor , j:j+factor])\n",
    "    return temp"
   ]
  },
  {
   "cell_type": "code",
   "execution_count": 309,
   "metadata": {
    "collapsed": true
   },
   "outputs": [],
   "source": [
    "def getMeanOverFactor(matrix):\n",
    "    return np.mean(matrix)"
   ]
  },
  {
   "cell_type": "code",
   "execution_count": 310,
   "metadata": {
    "collapsed": true
   },
   "outputs": [],
   "source": [
    "imageRdd_3 = imageRdd_2.map(lambda key: (key[0],row_diff(key[1]),col_diff(key[1]))).\\\n",
    "                map(lambda key: (key[0],getFeature(key[1],key[2])))"
   ]
  },
  {
   "cell_type": "code",
   "execution_count": 311,
   "metadata": {},
   "outputs": [
    {
     "data": {
      "text/plain": [
       "array([[1],\n",
       "       [1]])"
      ]
     },
     "execution_count": 311,
     "metadata": {},
     "output_type": "execute_result"
    }
   ],
   "source": [
    "arr = [[1,2],[4,5]]\n",
    "arr = np.array(arr)\n",
    "np.diff(arr,axis=1)"
   ]
  },
  {
   "cell_type": "code",
   "execution_count": 312,
   "metadata": {
    "collapsed": true
   },
   "outputs": [],
   "source": [
    "def row_diff(matrix):\n",
    "    matrix = np.array(matrix)\n",
    "    matrix = np.diff(matrix,axis=1)\n",
    "    matrix = np.where(np.logical_or(matrix < -1, matrix > 1), matrix, 0)\n",
    "    matrix = np.clip(matrix, -1, 1)\n",
    "#     temp = [[0 for i in range(len(matrix[0])-1)] for j in range(len(matrix))]\n",
    "#     for i in range(len(matrix)):\n",
    "#         for j in range(len(matrix[0])-1):\n",
    "#             temp[i][j] = matrix[i][j+1] - matrix[i][j]\n",
    "#             temp[i][j] = float(temp[i][j])\n",
    "#             if temp[i][j] < float(-1):\n",
    "#                 temp[i][j] = -1\n",
    "#             elif temp[i][j] > float(1):\n",
    "#                 temp[i][j] = 1\n",
    "#             else:\n",
    "#                 temp[i][j] = 0\n",
    "    return matrix"
   ]
  },
  {
   "cell_type": "code",
   "execution_count": 313,
   "metadata": {
    "collapsed": true
   },
   "outputs": [],
   "source": [
    "def col_diff(matrix):\n",
    "    matrix = np.array(matrix)\n",
    "    matrix = np.diff(matrix,axis=0)\n",
    "    matrix = np.where(np.logical_or(matrix < -1, matrix > 1), matrix, 0)\n",
    "    matrix = np.clip(matrix, -1, 1)\n",
    "#     matrix[matrix < -1] = -1\n",
    "#     matrix[matrix > 1] = 1\n",
    "#     matrix[matrix >= -1 & matrix <= 1] = 0\n",
    "#     temp = [[0 for i in range(len(matrix[0]))] for j in range(len(matrix)-1)]\n",
    "#     for i in range(len(matrix)-1):\n",
    "#         for j in range(len(matrix[0])):\n",
    "#             temp[i][j] = matrix[i+1][j] - matrix[i][j]\n",
    "#             temp[i][j] = float(temp[i][j])\n",
    "#             if temp[i][j] < float(-1):\n",
    "#                 temp[i][j] = -1\n",
    "#             elif temp[i][j] > float(1):\n",
    "#                 temp[i][j] = 1\n",
    "#             else:\n",
    "#                 temp[i][j] = 0\n",
    "    return matrix"
   ]
  },
  {
   "cell_type": "code",
   "execution_count": 314,
   "metadata": {},
   "outputs": [
    {
     "data": {
      "text/plain": [
       "numpy.int64"
      ]
     },
     "execution_count": 314,
     "metadata": {},
     "output_type": "execute_result"
    }
   ],
   "source": [
    "a = 6\n",
    "type(np.int64(a))"
   ]
  },
  {
   "cell_type": "code",
   "execution_count": 315,
   "metadata": {
    "collapsed": true
   },
   "outputs": [],
   "source": [
    "def getFeature(row_diff,col_diff):\n",
    "#     feature = list()\n",
    "    row_diff = np.array(row_diff)\n",
    "    col_diff = np.array(col_diff)\n",
    "    return np.append(row_diff.flatten(),col_diff.flatten())\n",
    "#     for i in range(len(row_diff)):\n",
    "#         for j in range(len(row_diff[0])):\n",
    "#             feature.append(row_diff[i][j])\n",
    "#     for i in range(len(col_diff)):\n",
    "#         for j in range(len(col_diff[0])):\n",
    "#             feature.append(col_diff[i][j])\n",
    "#     return feature"
   ]
  },
  {
   "cell_type": "code",
   "execution_count": 316,
   "metadata": {
    "collapsed": true
   },
   "outputs": [],
   "source": [
    "ques_2lis = [\"3677454_2025195.zip-1\", \"3677454_2025195.zip-18\"]"
   ]
  },
  {
   "cell_type": "code",
   "execution_count": 317,
   "metadata": {
    "collapsed": true
   },
   "outputs": [],
   "source": [
    "ques_2lis_broadcast = sc.broadcast(set(ques_2lis))"
   ]
  },
  {
   "cell_type": "code",
   "execution_count": 318,
   "metadata": {},
   "outputs": [],
   "source": [
    "featuresList = imageRdd_3.filter(lambda key: key[0] in ques_2lis_broadcast.value).collect()"
   ]
  },
  {
   "cell_type": "markdown",
   "metadata": {},
   "source": [
    "### Result - Part - 2"
   ]
  },
  {
   "cell_type": "code",
   "execution_count": 319,
   "metadata": {},
   "outputs": [
    {
     "name": "stdout",
     "output_type": "stream",
     "text": [
      "3677454_2025195.zip-1 [ 0.  1. -1. ...,  1. -1.  1.]\n",
      "3677454_2025195.zip-18 [-1. -1.  0. ...,  1. -1. -1.]\n"
     ]
    }
   ],
   "source": [
    "lis = [\"3677454_2025195.zip-1\", \"3677454_2025195.zip-18\"]\n",
    "for tup in featuresList:\n",
    "    if tup[0] in lis:\n",
    "        print(tup[0],np.array(tup[1]))"
   ]
  },
  {
   "cell_type": "code",
   "execution_count": null,
   "metadata": {
    "collapsed": true
   },
   "outputs": [],
   "source": [
    "3677454_2025195.zip-1 [ 0  1 -1 ...,  1 -1  1]\n",
    "3677454_2025195.zip-18 [-1 -1  0 ...,  1 -1 -1]"
   ]
  },
  {
   "cell_type": "code",
   "execution_count": 37,
   "metadata": {
    "collapsed": true
   },
   "outputs": [],
   "source": [
    "lengthBroadCast = sc.broadcast(len(featuresList[0][1]))"
   ]
  },
  {
   "cell_type": "markdown",
   "metadata": {},
   "source": [
    "### Part - 3"
   ]
  },
  {
   "cell_type": "code",
   "execution_count": 75,
   "metadata": {
    "collapsed": true
   },
   "outputs": [],
   "source": [
    "lis = imageRdd_3.map(lambda key: (key[0],key[1],getMD5HashForFeatures(key[1],128))).collect()"
   ]
  },
  {
   "cell_type": "code",
   "execution_count": 38,
   "metadata": {
    "collapsed": true
   },
   "outputs": [],
   "source": [
    "def getMD5HashForFeatures(feature,factor):\n",
    "    feature = np.array(feature)\n",
    "    hashcode = str()\n",
    "    increment = len(feature)//factor\n",
    "    for arr in np.array_split(np.array(feature), 128):\n",
    "        hexdigest = hashlib.md5(arr).hexdigest()\n",
    "        binstr = bin(int(hexdigest,16))\n",
    "        bit = hexdigest[len(hexdigest)//2]\n",
    "        hashcode += bit\n",
    "    return hashcode"
   ]
  },
  {
   "cell_type": "code",
   "execution_count": 77,
   "metadata": {},
   "outputs": [
    {
     "data": {
      "text/plain": [
       "'f44b4267ccf0108e345819ca7856720212136826d220966c63b023a17b3f9fd303cae68e9b5a42d534b74a718bf132a61f737b077a7c7810218b63f10aab6de4'"
      ]
     },
     "execution_count": 77,
     "metadata": {},
     "output_type": "execute_result"
    }
   ],
   "source": [
    "lis[0][2]"
   ]
  },
  {
   "cell_type": "code",
   "execution_count": 78,
   "metadata": {},
   "outputs": [
    {
     "name": "stdout",
     "output_type": "stream",
     "text": [
      "3677454_2025195.zip-1 128\n",
      "3677454_2025195.zip-18 128\n"
     ]
    }
   ],
   "source": [
    "lis1 = [\"3677454_2025195.zip-1\", \"3677454_2025195.zip-18\"]\n",
    "for tup in lis:\n",
    "    if tup[0] in lis1:\n",
    "        print(tup[0],len(tup[2]))"
   ]
  },
  {
   "cell_type": "code",
   "execution_count": 178,
   "metadata": {
    "collapsed": true
   },
   "outputs": [],
   "source": [
    "lshRdd = imageRdd_3.map(lambda key: (key[0],key[1],getMD5HashForFeatures(key[1],128)))"
   ]
  },
  {
   "cell_type": "code",
   "execution_count": 179,
   "metadata": {
    "collapsed": true
   },
   "outputs": [],
   "source": [
    "lshRdd_1 = lshRdd.map(lambda key: (key[0],key[1],getBucketsMapped(key[2],8,491)))"
   ]
  },
  {
   "cell_type": "code",
   "execution_count": 180,
   "metadata": {
    "collapsed": true
   },
   "outputs": [],
   "source": [
    "def getBucketsMapped(signatureVector,bands,prime):\n",
    "#     bands = 16\n",
    "    rowsPBand = len(signatureVector)//bands\n",
    "#     prime = 157\n",
    "    bucketList = list()\n",
    "    count = 0\n",
    "    for i in range(0,len(signatureVector),rowsPBand):\n",
    "        bucketNo = hash(signatureVector[i : i + rowsPBand]) % prime\n",
    "        bucketList.append((count,bucketNo))\n",
    "        count += 1\n",
    "        if count == bands:\n",
    "            break\n",
    "    return bucketList"
   ]
  },
  {
   "cell_type": "code",
   "execution_count": 181,
   "metadata": {
    "collapsed": true
   },
   "outputs": [],
   "source": [
    "questionList = ['3677454_2025195.zip-0', '3677454_2025195.zip-1', '3677454_2025195.zip-18', '3677454_2025195.zip-19']"
   ]
  },
  {
   "cell_type": "code",
   "execution_count": 190,
   "metadata": {
    "collapsed": true
   },
   "outputs": [],
   "source": [
    "templshRdd_1 = lshRdd_1.map(lambda key: (key[0],key[2])).flatMapValues(lambda key: key).\\\n",
    "                map(lambda key: (key[1],key[0]))"
   ]
  },
  {
   "cell_type": "code",
   "execution_count": null,
   "metadata": {
    "collapsed": true
   },
   "outputs": [],
   "source": [
    "((0, 330), '3677454_2025195.zip-0'),\n",
    " ((1, 120), '3677454_2025195.zip-0'),\n",
    " ((2, 217), '3677454_2025195.zip-0'),\n",
    " ((3, 14), '3677454_2025195.zip-0'),\n",
    " ((4, 227), '3677454_2025195.zip-0'),\n",
    " ((5, 458), '3677454_2025195.zip-0'),\n",
    " ((6, 204), '3677454_2025195.zip-0'),\n",
    " ((7, 95), '3677454_2025195.zip-0'),"
   ]
  },
  {
   "cell_type": "code",
   "execution_count": 183,
   "metadata": {
    "collapsed": true
   },
   "outputs": [],
   "source": [
    "def appendMatcheddNames(commonlist):\n",
    "    temp = list()\n",
    "    for name in questionList:\n",
    "        if name in commonlist:\n",
    "            for each in commonlist:\n",
    "                if name != each:\n",
    "                    temp.append((name,each))\n",
    "\n",
    "    return temp  "
   ]
  },
  {
   "cell_type": "code",
   "execution_count": 195,
   "metadata": {},
   "outputs": [],
   "source": [
    "templshRdd_2 = templshRdd_1.groupByKey().map(lambda key: (key[1])).map(lambda x:list(x)).collect()"
   ]
  },
  {
   "cell_type": "code",
   "execution_count": 196,
   "metadata": {},
   "outputs": [
    {
     "data": {
      "text/plain": [
       "[['3677453_2025190.zip-0'],\n",
       " ['3677453_2025190.zip-0'],\n",
       " ['3677453_2025190.zip-0'],\n",
       " ['3677453_2025190.zip-0', '3677502_2035200.zip-8'],\n",
       " ['3677453_2025190.zip-0'],\n",
       " ['3677453_2025190.zip-0'],\n",
       " ['3677453_2025190.zip-0', '3677500_2035190.zip-17'],\n",
       " ['3677453_2025190.zip-0'],\n",
       " ['3677453_2025190.zip-1'],\n",
       " ['3677453_2025190.zip-1'],\n",
       " ['3677453_2025190.zip-1'],\n",
       " ['3677453_2025190.zip-1'],\n",
       " ['3677453_2025190.zip-1'],\n",
       " ['3677453_2025190.zip-1'],\n",
       " ['3677453_2025190.zip-1'],\n",
       " ['3677453_2025190.zip-1'],\n",
       " ['3677453_2025190.zip-2'],\n",
       " ['3677453_2025190.zip-2'],\n",
       " ['3677453_2025190.zip-2', '3677502_2035200.zip-12'],\n",
       " ['3677453_2025190.zip-2'],\n",
       " ['3677453_2025190.zip-2'],\n",
       " ['3677453_2025190.zip-2'],\n",
       " ['3677453_2025190.zip-2'],\n",
       " ['3677453_2025190.zip-2'],\n",
       " ['3677453_2025190.zip-3'],\n",
       " ['3677453_2025190.zip-3'],\n",
       " ['3677453_2025190.zip-3'],\n",
       " ['3677453_2025190.zip-3', '3677453_2025190.zip-20'],\n",
       " ['3677453_2025190.zip-3'],\n",
       " ['3677453_2025190.zip-3', '3677453_2025190.zip-21'],\n",
       " ['3677453_2025190.zip-3'],\n",
       " ['3677453_2025190.zip-3'],\n",
       " ['3677453_2025190.zip-4'],\n",
       " ['3677453_2025190.zip-4', '3677454_2025195.zip-15'],\n",
       " ['3677453_2025190.zip-4'],\n",
       " ['3677453_2025190.zip-4'],\n",
       " ['3677453_2025190.zip-4', '3677502_2035200.zip-20'],\n",
       " ['3677453_2025190.zip-4'],\n",
       " ['3677453_2025190.zip-4'],\n",
       " ['3677453_2025190.zip-4'],\n",
       " ['3677453_2025190.zip-5'],\n",
       " ['3677453_2025190.zip-5'],\n",
       " ['3677453_2025190.zip-5'],\n",
       " ['3677453_2025190.zip-5'],\n",
       " ['3677453_2025190.zip-5'],\n",
       " ['3677453_2025190.zip-5', '3677501_2035195.zip-22'],\n",
       " ['3677453_2025190.zip-5'],\n",
       " ['3677453_2025190.zip-5'],\n",
       " ['3677453_2025190.zip-6'],\n",
       " ['3677453_2025190.zip-6'],\n",
       " ['3677453_2025190.zip-6'],\n",
       " ['3677453_2025190.zip-6'],\n",
       " ['3677453_2025190.zip-6'],\n",
       " ['3677453_2025190.zip-6'],\n",
       " ['3677453_2025190.zip-6'],\n",
       " ['3677453_2025190.zip-6'],\n",
       " ['3677453_2025190.zip-7'],\n",
       " ['3677453_2025190.zip-7', '3677453_2025190.zip-16', '3677454_2025195.zip-6'],\n",
       " ['3677453_2025190.zip-7', '3677453_2025190.zip-11', '3677453_2025190.zip-15'],\n",
       " ['3677453_2025190.zip-7'],\n",
       " ['3677453_2025190.zip-7'],\n",
       " ['3677453_2025190.zip-7'],\n",
       " ['3677453_2025190.zip-7'],\n",
       " ['3677453_2025190.zip-7'],\n",
       " ['3677453_2025190.zip-8'],\n",
       " ['3677453_2025190.zip-8'],\n",
       " ['3677453_2025190.zip-8'],\n",
       " ['3677453_2025190.zip-8'],\n",
       " ['3677453_2025190.zip-8', '3677454_2025195.zip-13', '3677500_2035190.zip-2'],\n",
       " ['3677453_2025190.zip-8'],\n",
       " ['3677453_2025190.zip-8'],\n",
       " ['3677453_2025190.zip-8', '3677501_2035195.zip-5', '3677502_2035200.zip-12'],\n",
       " ['3677453_2025190.zip-9'],\n",
       " ['3677453_2025190.zip-9'],\n",
       " ['3677453_2025190.zip-9'],\n",
       " ['3677453_2025190.zip-9'],\n",
       " ['3677453_2025190.zip-9'],\n",
       " ['3677453_2025190.zip-9', '3677454_2025195.zip-13'],\n",
       " ['3677453_2025190.zip-9'],\n",
       " ['3677453_2025190.zip-9'],\n",
       " ['3677453_2025190.zip-10'],\n",
       " ['3677453_2025190.zip-10'],\n",
       " ['3677453_2025190.zip-10'],\n",
       " ['3677453_2025190.zip-10'],\n",
       " ['3677453_2025190.zip-10'],\n",
       " ['3677453_2025190.zip-10', '3677502_2035200.zip-22'],\n",
       " ['3677453_2025190.zip-10'],\n",
       " ['3677453_2025190.zip-10'],\n",
       " ['3677453_2025190.zip-11'],\n",
       " ['3677453_2025190.zip-11'],\n",
       " ['3677453_2025190.zip-11'],\n",
       " ['3677453_2025190.zip-11', '3677502_2035200.zip-21'],\n",
       " ['3677453_2025190.zip-11'],\n",
       " ['3677453_2025190.zip-11'],\n",
       " ['3677453_2025190.zip-11'],\n",
       " ['3677453_2025190.zip-12', '3677502_2035200.zip-19'],\n",
       " ['3677453_2025190.zip-12'],\n",
       " ['3677453_2025190.zip-12'],\n",
       " ['3677453_2025190.zip-12'],\n",
       " ['3677453_2025190.zip-12'],\n",
       " ['3677453_2025190.zip-12'],\n",
       " ['3677453_2025190.zip-12'],\n",
       " ['3677453_2025190.zip-12'],\n",
       " ['3677453_2025190.zip-13', '3677454_2025195.zip-18'],\n",
       " ['3677453_2025190.zip-13'],\n",
       " ['3677453_2025190.zip-13'],\n",
       " ['3677453_2025190.zip-13'],\n",
       " ['3677453_2025190.zip-13'],\n",
       " ['3677453_2025190.zip-13'],\n",
       " ['3677453_2025190.zip-13'],\n",
       " ['3677453_2025190.zip-13'],\n",
       " ['3677453_2025190.zip-14'],\n",
       " ['3677453_2025190.zip-14'],\n",
       " ['3677453_2025190.zip-14'],\n",
       " ['3677453_2025190.zip-14', '3677500_2035190.zip-4'],\n",
       " ['3677453_2025190.zip-14'],\n",
       " ['3677453_2025190.zip-14'],\n",
       " ['3677453_2025190.zip-14'],\n",
       " ['3677453_2025190.zip-14'],\n",
       " ['3677453_2025190.zip-15'],\n",
       " ['3677453_2025190.zip-15'],\n",
       " ['3677453_2025190.zip-15'],\n",
       " ['3677453_2025190.zip-15'],\n",
       " ['3677453_2025190.zip-15'],\n",
       " ['3677453_2025190.zip-15', '3677454_2025195.zip-12', '3677501_2035195.zip-6'],\n",
       " ['3677453_2025190.zip-15'],\n",
       " ['3677453_2025190.zip-16'],\n",
       " ['3677453_2025190.zip-16'],\n",
       " ['3677453_2025190.zip-16'],\n",
       " ['3677453_2025190.zip-16'],\n",
       " ['3677453_2025190.zip-16'],\n",
       " ['3677453_2025190.zip-16'],\n",
       " ['3677453_2025190.zip-16'],\n",
       " ['3677453_2025190.zip-17', '3677502_2035200.zip-16'],\n",
       " ['3677453_2025190.zip-17', '3677501_2035195.zip-19'],\n",
       " ['3677453_2025190.zip-17', '3677500_2035190.zip-8'],\n",
       " ['3677453_2025190.zip-17'],\n",
       " ['3677453_2025190.zip-17'],\n",
       " ['3677453_2025190.zip-17'],\n",
       " ['3677453_2025190.zip-17', '3677453_2025190.zip-23'],\n",
       " ['3677453_2025190.zip-17'],\n",
       " ['3677453_2025190.zip-18'],\n",
       " ['3677453_2025190.zip-18'],\n",
       " ['3677453_2025190.zip-18', '3677502_2035200.zip-16'],\n",
       " ['3677453_2025190.zip-18'],\n",
       " ['3677453_2025190.zip-18'],\n",
       " ['3677453_2025190.zip-18'],\n",
       " ['3677453_2025190.zip-18'],\n",
       " ['3677453_2025190.zip-18'],\n",
       " ['3677453_2025190.zip-19'],\n",
       " ['3677453_2025190.zip-19'],\n",
       " ['3677453_2025190.zip-19'],\n",
       " ['3677453_2025190.zip-19'],\n",
       " ['3677453_2025190.zip-19'],\n",
       " ['3677453_2025190.zip-19'],\n",
       " ['3677453_2025190.zip-19'],\n",
       " ['3677453_2025190.zip-19'],\n",
       " ['3677453_2025190.zip-20'],\n",
       " ['3677453_2025190.zip-20'],\n",
       " ['3677453_2025190.zip-20', '3677500_2035190.zip-20'],\n",
       " ['3677453_2025190.zip-20', '3677501_2035195.zip-17'],\n",
       " ['3677453_2025190.zip-20'],\n",
       " ['3677453_2025190.zip-20'],\n",
       " ['3677453_2025190.zip-20'],\n",
       " ['3677453_2025190.zip-21', '3677500_2035190.zip-15'],\n",
       " ['3677453_2025190.zip-21'],\n",
       " ['3677453_2025190.zip-21'],\n",
       " ['3677453_2025190.zip-21'],\n",
       " ['3677453_2025190.zip-21'],\n",
       " ['3677453_2025190.zip-21'],\n",
       " ['3677453_2025190.zip-21',\n",
       "  '3677500_2035190.zip-13',\n",
       "  '3677502_2035200.zip-23'],\n",
       " ['3677453_2025190.zip-22'],\n",
       " ['3677453_2025190.zip-22'],\n",
       " ['3677453_2025190.zip-22'],\n",
       " ['3677453_2025190.zip-22', '3677500_2035190.zip-13'],\n",
       " ['3677453_2025190.zip-22'],\n",
       " ['3677453_2025190.zip-22'],\n",
       " ['3677453_2025190.zip-22'],\n",
       " ['3677453_2025190.zip-22'],\n",
       " ['3677453_2025190.zip-23', '3677502_2035200.zip-13'],\n",
       " ['3677453_2025190.zip-23'],\n",
       " ['3677453_2025190.zip-23', '3677454_2025195.zip-21', '3677502_2035200.zip-4'],\n",
       " ['3677453_2025190.zip-23'],\n",
       " ['3677453_2025190.zip-23'],\n",
       " ['3677453_2025190.zip-23', '3677500_2035190.zip-15'],\n",
       " ['3677453_2025190.zip-23'],\n",
       " ['3677453_2025190.zip-24'],\n",
       " ['3677453_2025190.zip-24', '3677454_2025195.zip-14'],\n",
       " ['3677453_2025190.zip-24'],\n",
       " ['3677453_2025190.zip-24'],\n",
       " ['3677453_2025190.zip-24'],\n",
       " ['3677453_2025190.zip-24'],\n",
       " ['3677453_2025190.zip-24'],\n",
       " ['3677453_2025190.zip-24'],\n",
       " ['3677454_2025195.zip-0'],\n",
       " ['3677454_2025195.zip-0', '3677501_2035195.zip-9'],\n",
       " ['3677454_2025195.zip-0'],\n",
       " ['3677454_2025195.zip-0', '3677501_2035195.zip-2'],\n",
       " ['3677454_2025195.zip-0'],\n",
       " ['3677454_2025195.zip-0'],\n",
       " ['3677454_2025195.zip-0'],\n",
       " ['3677454_2025195.zip-0', '3677502_2035200.zip-21'],\n",
       " ['3677454_2025195.zip-1'],\n",
       " ['3677454_2025195.zip-1'],\n",
       " ['3677454_2025195.zip-1'],\n",
       " ['3677454_2025195.zip-1'],\n",
       " ['3677454_2025195.zip-1'],\n",
       " ['3677454_2025195.zip-1'],\n",
       " ['3677454_2025195.zip-1'],\n",
       " ['3677454_2025195.zip-1'],\n",
       " ['3677454_2025195.zip-2'],\n",
       " ['3677454_2025195.zip-2'],\n",
       " ['3677454_2025195.zip-2'],\n",
       " ['3677454_2025195.zip-2'],\n",
       " ['3677454_2025195.zip-2'],\n",
       " ['3677454_2025195.zip-2'],\n",
       " ['3677454_2025195.zip-2'],\n",
       " ['3677454_2025195.zip-2'],\n",
       " ['3677454_2025195.zip-3'],\n",
       " ['3677454_2025195.zip-3'],\n",
       " ['3677454_2025195.zip-3'],\n",
       " ['3677454_2025195.zip-3'],\n",
       " ['3677454_2025195.zip-3', '3677454_2025195.zip-6'],\n",
       " ['3677454_2025195.zip-3'],\n",
       " ['3677454_2025195.zip-3'],\n",
       " ['3677454_2025195.zip-3'],\n",
       " ['3677454_2025195.zip-4'],\n",
       " ['3677454_2025195.zip-4', '3677454_2025195.zip-22'],\n",
       " ['3677454_2025195.zip-4'],\n",
       " ['3677454_2025195.zip-4'],\n",
       " ['3677454_2025195.zip-4'],\n",
       " ['3677454_2025195.zip-4'],\n",
       " ['3677454_2025195.zip-4'],\n",
       " ['3677454_2025195.zip-4'],\n",
       " ['3677454_2025195.zip-5'],\n",
       " ['3677454_2025195.zip-5'],\n",
       " ['3677454_2025195.zip-5', '3677502_2035200.zip-22'],\n",
       " ['3677454_2025195.zip-5'],\n",
       " ['3677454_2025195.zip-5'],\n",
       " ['3677454_2025195.zip-5'],\n",
       " ['3677454_2025195.zip-5', '3677502_2035200.zip-3', '3677502_2035200.zip-4'],\n",
       " ['3677454_2025195.zip-5'],\n",
       " ['3677454_2025195.zip-6'],\n",
       " ['3677454_2025195.zip-6'],\n",
       " ['3677454_2025195.zip-6'],\n",
       " ['3677454_2025195.zip-6'],\n",
       " ['3677454_2025195.zip-6', '3677454_2025195.zip-7'],\n",
       " ['3677454_2025195.zip-6'],\n",
       " ['3677454_2025195.zip-7'],\n",
       " ['3677454_2025195.zip-7'],\n",
       " ['3677454_2025195.zip-7'],\n",
       " ['3677454_2025195.zip-7', '3677454_2025195.zip-10'],\n",
       " ['3677454_2025195.zip-7', '3677502_2035200.zip-9'],\n",
       " ['3677454_2025195.zip-7', '3677500_2035190.zip-14'],\n",
       " ['3677454_2025195.zip-7'],\n",
       " ['3677454_2025195.zip-8', '3677500_2035190.zip-0'],\n",
       " ['3677454_2025195.zip-8', '3677454_2025195.zip-9'],\n",
       " ['3677454_2025195.zip-8'],\n",
       " ['3677454_2025195.zip-8'],\n",
       " ['3677454_2025195.zip-8'],\n",
       " ['3677454_2025195.zip-8'],\n",
       " ['3677454_2025195.zip-8', '3677502_2035200.zip-2'],\n",
       " ['3677454_2025195.zip-8', '3677500_2035190.zip-0'],\n",
       " ['3677454_2025195.zip-9'],\n",
       " ['3677454_2025195.zip-9'],\n",
       " ['3677454_2025195.zip-9'],\n",
       " ['3677454_2025195.zip-9'],\n",
       " ['3677454_2025195.zip-9'],\n",
       " ['3677454_2025195.zip-9', '3677502_2035200.zip-13'],\n",
       " ['3677454_2025195.zip-9'],\n",
       " ['3677454_2025195.zip-10'],\n",
       " ['3677454_2025195.zip-10'],\n",
       " ['3677454_2025195.zip-10'],\n",
       " ['3677454_2025195.zip-10'],\n",
       " ['3677454_2025195.zip-10'],\n",
       " ['3677454_2025195.zip-10'],\n",
       " ['3677454_2025195.zip-10'],\n",
       " ['3677454_2025195.zip-11'],\n",
       " ['3677454_2025195.zip-11'],\n",
       " ['3677454_2025195.zip-11'],\n",
       " ['3677454_2025195.zip-11'],\n",
       " ['3677454_2025195.zip-11'],\n",
       " ['3677454_2025195.zip-11'],\n",
       " ['3677454_2025195.zip-11'],\n",
       " ['3677454_2025195.zip-11'],\n",
       " ['3677454_2025195.zip-12'],\n",
       " ['3677454_2025195.zip-12'],\n",
       " ['3677454_2025195.zip-12'],\n",
       " ['3677454_2025195.zip-12'],\n",
       " ['3677454_2025195.zip-12'],\n",
       " ['3677454_2025195.zip-12'],\n",
       " ['3677454_2025195.zip-12', '3677454_2025195.zip-13'],\n",
       " ['3677454_2025195.zip-13', '3677500_2035190.zip-16'],\n",
       " ['3677454_2025195.zip-13', '3677500_2035190.zip-18'],\n",
       " ['3677454_2025195.zip-13'],\n",
       " ['3677454_2025195.zip-13', '3677501_2035195.zip-19'],\n",
       " ['3677454_2025195.zip-13'],\n",
       " ['3677454_2025195.zip-14'],\n",
       " ['3677454_2025195.zip-14'],\n",
       " ['3677454_2025195.zip-14'],\n",
       " ['3677454_2025195.zip-14'],\n",
       " ['3677454_2025195.zip-14'],\n",
       " ['3677454_2025195.zip-14'],\n",
       " ['3677454_2025195.zip-14'],\n",
       " ['3677454_2025195.zip-15', '3677501_2035195.zip-5'],\n",
       " ['3677454_2025195.zip-15'],\n",
       " ['3677454_2025195.zip-15', '3677502_2035200.zip-21'],\n",
       " ['3677454_2025195.zip-15'],\n",
       " ['3677454_2025195.zip-15'],\n",
       " ['3677454_2025195.zip-15'],\n",
       " ['3677454_2025195.zip-15'],\n",
       " ['3677454_2025195.zip-16'],\n",
       " ['3677454_2025195.zip-16'],\n",
       " ['3677454_2025195.zip-16', '3677502_2035200.zip-0'],\n",
       " ['3677454_2025195.zip-16'],\n",
       " ['3677454_2025195.zip-16'],\n",
       " ['3677454_2025195.zip-16'],\n",
       " ['3677454_2025195.zip-16', '3677501_2035195.zip-8'],\n",
       " ['3677454_2025195.zip-16'],\n",
       " ['3677454_2025195.zip-17'],\n",
       " ['3677454_2025195.zip-17'],\n",
       " ['3677454_2025195.zip-17'],\n",
       " ['3677454_2025195.zip-17'],\n",
       " ['3677454_2025195.zip-17'],\n",
       " ['3677454_2025195.zip-17'],\n",
       " ['3677454_2025195.zip-17'],\n",
       " ['3677454_2025195.zip-17'],\n",
       " ['3677454_2025195.zip-18'],\n",
       " ['3677454_2025195.zip-18'],\n",
       " ['3677454_2025195.zip-18'],\n",
       " ['3677454_2025195.zip-18'],\n",
       " ['3677454_2025195.zip-18'],\n",
       " ['3677454_2025195.zip-18'],\n",
       " ['3677454_2025195.zip-18'],\n",
       " ['3677454_2025195.zip-19'],\n",
       " ['3677454_2025195.zip-19'],\n",
       " ['3677454_2025195.zip-19', '3677501_2035195.zip-2'],\n",
       " ['3677454_2025195.zip-19'],\n",
       " ['3677454_2025195.zip-19'],\n",
       " ['3677454_2025195.zip-19'],\n",
       " ['3677454_2025195.zip-19', '3677500_2035190.zip-19'],\n",
       " ['3677454_2025195.zip-19'],\n",
       " ['3677454_2025195.zip-20'],\n",
       " ['3677454_2025195.zip-20', '3677502_2035200.zip-1'],\n",
       " ['3677454_2025195.zip-20'],\n",
       " ['3677454_2025195.zip-20'],\n",
       " ['3677454_2025195.zip-20'],\n",
       " ['3677454_2025195.zip-20'],\n",
       " ['3677454_2025195.zip-20'],\n",
       " ['3677454_2025195.zip-20'],\n",
       " ['3677454_2025195.zip-21'],\n",
       " ['3677454_2025195.zip-21',\n",
       "  '3677501_2035195.zip-16',\n",
       "  '3677501_2035195.zip-23'],\n",
       " ['3677454_2025195.zip-21'],\n",
       " ['3677454_2025195.zip-21'],\n",
       " ['3677454_2025195.zip-21'],\n",
       " ['3677454_2025195.zip-21'],\n",
       " ['3677454_2025195.zip-21'],\n",
       " ['3677454_2025195.zip-22'],\n",
       " ['3677454_2025195.zip-22'],\n",
       " ['3677454_2025195.zip-22', '3677502_2035200.zip-7'],\n",
       " ['3677454_2025195.zip-22'],\n",
       " ['3677454_2025195.zip-22'],\n",
       " ['3677454_2025195.zip-22'],\n",
       " ['3677454_2025195.zip-22'],\n",
       " ['3677454_2025195.zip-23', '3677502_2035200.zip-3'],\n",
       " ['3677454_2025195.zip-23'],\n",
       " ['3677454_2025195.zip-23'],\n",
       " ['3677454_2025195.zip-23'],\n",
       " ['3677454_2025195.zip-23'],\n",
       " ['3677454_2025195.zip-23'],\n",
       " ['3677454_2025195.zip-23'],\n",
       " ['3677454_2025195.zip-23'],\n",
       " ['3677454_2025195.zip-24', '3677501_2035195.zip-2'],\n",
       " ['3677454_2025195.zip-24'],\n",
       " ['3677454_2025195.zip-24', '3677502_2035200.zip-5', '3677502_2035200.zip-10'],\n",
       " ['3677454_2025195.zip-24', '3677500_2035190.zip-24'],\n",
       " ['3677454_2025195.zip-24', '3677500_2035190.zip-24'],\n",
       " ['3677454_2025195.zip-24'],\n",
       " ['3677454_2025195.zip-24', '3677502_2035200.zip-20'],\n",
       " ['3677454_2025195.zip-24'],\n",
       " ['3677500_2035190.zip-0'],\n",
       " ['3677500_2035190.zip-0'],\n",
       " ['3677500_2035190.zip-0', '3677501_2035195.zip-24'],\n",
       " ['3677500_2035190.zip-0'],\n",
       " ['3677500_2035190.zip-0'],\n",
       " ['3677500_2035190.zip-0'],\n",
       " ['3677500_2035190.zip-1'],\n",
       " ['3677500_2035190.zip-1'],\n",
       " ['3677500_2035190.zip-1'],\n",
       " ['3677500_2035190.zip-1'],\n",
       " ['3677500_2035190.zip-1'],\n",
       " ['3677500_2035190.zip-1'],\n",
       " ['3677500_2035190.zip-1'],\n",
       " ['3677500_2035190.zip-1'],\n",
       " ['3677500_2035190.zip-2'],\n",
       " ['3677500_2035190.zip-2'],\n",
       " ['3677500_2035190.zip-2'],\n",
       " ['3677500_2035190.zip-2'],\n",
       " ['3677500_2035190.zip-2', '3677501_2035195.zip-8'],\n",
       " ['3677500_2035190.zip-2', '3677502_2035200.zip-14'],\n",
       " ['3677500_2035190.zip-2', '3677500_2035190.zip-21'],\n",
       " ['3677500_2035190.zip-3'],\n",
       " ['3677500_2035190.zip-3'],\n",
       " ['3677500_2035190.zip-3'],\n",
       " ['3677500_2035190.zip-3'],\n",
       " ['3677500_2035190.zip-3'],\n",
       " ['3677500_2035190.zip-3'],\n",
       " ['3677500_2035190.zip-3'],\n",
       " ['3677500_2035190.zip-3', '3677500_2035190.zip-4'],\n",
       " ['3677500_2035190.zip-4'],\n",
       " ['3677500_2035190.zip-4'],\n",
       " ['3677500_2035190.zip-4'],\n",
       " ['3677500_2035190.zip-4'],\n",
       " ['3677500_2035190.zip-4'],\n",
       " ['3677500_2035190.zip-4'],\n",
       " ['3677500_2035190.zip-5'],\n",
       " ['3677500_2035190.zip-5'],\n",
       " ['3677500_2035190.zip-5'],\n",
       " ['3677500_2035190.zip-5'],\n",
       " ['3677500_2035190.zip-5'],\n",
       " ['3677500_2035190.zip-5'],\n",
       " ['3677500_2035190.zip-5'],\n",
       " ['3677500_2035190.zip-5'],\n",
       " ['3677500_2035190.zip-6'],\n",
       " ['3677500_2035190.zip-6'],\n",
       " ['3677500_2035190.zip-6'],\n",
       " ['3677500_2035190.zip-6'],\n",
       " ['3677500_2035190.zip-6'],\n",
       " ['3677500_2035190.zip-6'],\n",
       " ['3677500_2035190.zip-6'],\n",
       " ['3677500_2035190.zip-6'],\n",
       " ['3677500_2035190.zip-7'],\n",
       " ['3677500_2035190.zip-7'],\n",
       " ['3677500_2035190.zip-7'],\n",
       " ['3677500_2035190.zip-7'],\n",
       " ['3677500_2035190.zip-7'],\n",
       " ['3677500_2035190.zip-7'],\n",
       " ['3677500_2035190.zip-7'],\n",
       " ['3677500_2035190.zip-7'],\n",
       " ['3677500_2035190.zip-8'],\n",
       " ['3677500_2035190.zip-8'],\n",
       " ['3677500_2035190.zip-8'],\n",
       " ['3677500_2035190.zip-8'],\n",
       " ['3677500_2035190.zip-8'],\n",
       " ['3677500_2035190.zip-8'],\n",
       " ['3677500_2035190.zip-8'],\n",
       " ['3677500_2035190.zip-9'],\n",
       " ['3677500_2035190.zip-9'],\n",
       " ['3677500_2035190.zip-9'],\n",
       " ['3677500_2035190.zip-9'],\n",
       " ['3677500_2035190.zip-9'],\n",
       " ['3677500_2035190.zip-9'],\n",
       " ['3677500_2035190.zip-9'],\n",
       " ['3677500_2035190.zip-9'],\n",
       " ['3677500_2035190.zip-10'],\n",
       " ['3677500_2035190.zip-10'],\n",
       " ['3677500_2035190.zip-10'],\n",
       " ['3677500_2035190.zip-10'],\n",
       " ['3677500_2035190.zip-10'],\n",
       " ['3677500_2035190.zip-10'],\n",
       " ['3677500_2035190.zip-10'],\n",
       " ['3677500_2035190.zip-10'],\n",
       " ['3677500_2035190.zip-11', '3677502_2035200.zip-1'],\n",
       " ['3677500_2035190.zip-11'],\n",
       " ['3677500_2035190.zip-11'],\n",
       " ['3677500_2035190.zip-11'],\n",
       " ['3677500_2035190.zip-11'],\n",
       " ['3677500_2035190.zip-11'],\n",
       " ['3677500_2035190.zip-11'],\n",
       " ['3677500_2035190.zip-11', '3677502_2035200.zip-7'],\n",
       " ['3677500_2035190.zip-12', '3677501_2035195.zip-21'],\n",
       " ['3677500_2035190.zip-12', '3677502_2035200.zip-16'],\n",
       " ['3677500_2035190.zip-12'],\n",
       " ['3677500_2035190.zip-12'],\n",
       " ['3677500_2035190.zip-12'],\n",
       " ['3677500_2035190.zip-12', '3677501_2035195.zip-24'],\n",
       " ['3677500_2035190.zip-12', '3677501_2035195.zip-5'],\n",
       " ['3677500_2035190.zip-12'],\n",
       " ['3677500_2035190.zip-13'],\n",
       " ['3677500_2035190.zip-13'],\n",
       " ['3677500_2035190.zip-13'],\n",
       " ['3677500_2035190.zip-13'],\n",
       " ['3677500_2035190.zip-13'],\n",
       " ['3677500_2035190.zip-13'],\n",
       " ['3677500_2035190.zip-14'],\n",
       " ['3677500_2035190.zip-14'],\n",
       " ['3677500_2035190.zip-14'],\n",
       " ['3677500_2035190.zip-14', '3677501_2035195.zip-15'],\n",
       " ['3677500_2035190.zip-14',\n",
       "  '3677502_2035200.zip-13',\n",
       "  '3677502_2035200.zip-23'],\n",
       " ['3677500_2035190.zip-14'],\n",
       " ['3677500_2035190.zip-14'],\n",
       " ['3677500_2035190.zip-15'],\n",
       " ['3677500_2035190.zip-15'],\n",
       " ['3677500_2035190.zip-15'],\n",
       " ['3677500_2035190.zip-15'],\n",
       " ['3677500_2035190.zip-15'],\n",
       " ['3677500_2035190.zip-15'],\n",
       " ['3677500_2035190.zip-16'],\n",
       " ['3677500_2035190.zip-16'],\n",
       " ['3677500_2035190.zip-16'],\n",
       " ['3677500_2035190.zip-16'],\n",
       " ['3677500_2035190.zip-16'],\n",
       " ['3677500_2035190.zip-16'],\n",
       " ['3677500_2035190.zip-16', '3677501_2035195.zip-13'],\n",
       " ['3677500_2035190.zip-17'],\n",
       " ['3677500_2035190.zip-17'],\n",
       " ['3677500_2035190.zip-17'],\n",
       " ['3677500_2035190.zip-17'],\n",
       " ['3677500_2035190.zip-17'],\n",
       " ['3677500_2035190.zip-17'],\n",
       " ['3677500_2035190.zip-17'],\n",
       " ['3677500_2035190.zip-18'],\n",
       " ['3677500_2035190.zip-18'],\n",
       " ['3677500_2035190.zip-18'],\n",
       " ['3677500_2035190.zip-18', '3677501_2035195.zip-1'],\n",
       " ['3677500_2035190.zip-18'],\n",
       " ['3677500_2035190.zip-18'],\n",
       " ['3677500_2035190.zip-18'],\n",
       " ['3677500_2035190.zip-19'],\n",
       " ['3677500_2035190.zip-19'],\n",
       " ['3677500_2035190.zip-19'],\n",
       " ['3677500_2035190.zip-19', '3677502_2035200.zip-12'],\n",
       " ['3677500_2035190.zip-19'],\n",
       " ['3677500_2035190.zip-19'],\n",
       " ['3677500_2035190.zip-19', '3677501_2035195.zip-7'],\n",
       " ['3677500_2035190.zip-20'],\n",
       " ['3677500_2035190.zip-20'],\n",
       " ['3677500_2035190.zip-20', '3677502_2035200.zip-3'],\n",
       " ['3677500_2035190.zip-20', '3677502_2035200.zip-15'],\n",
       " ['3677500_2035190.zip-20'],\n",
       " ['3677500_2035190.zip-20'],\n",
       " ['3677500_2035190.zip-20'],\n",
       " ['3677500_2035190.zip-21'],\n",
       " ['3677500_2035190.zip-21'],\n",
       " ['3677500_2035190.zip-21'],\n",
       " ['3677500_2035190.zip-21'],\n",
       " ['3677500_2035190.zip-21'],\n",
       " ['3677500_2035190.zip-21'],\n",
       " ['3677500_2035190.zip-21'],\n",
       " ['3677500_2035190.zip-22'],\n",
       " ['3677500_2035190.zip-22'],\n",
       " ['3677500_2035190.zip-22'],\n",
       " ['3677500_2035190.zip-22'],\n",
       " ['3677500_2035190.zip-22', '3677500_2035190.zip-23'],\n",
       " ['3677500_2035190.zip-22'],\n",
       " ['3677500_2035190.zip-22'],\n",
       " ['3677500_2035190.zip-22'],\n",
       " ['3677500_2035190.zip-23', '3677501_2035195.zip-8'],\n",
       " ['3677500_2035190.zip-23'],\n",
       " ['3677500_2035190.zip-23'],\n",
       " ['3677500_2035190.zip-23'],\n",
       " ['3677500_2035190.zip-23'],\n",
       " ['3677500_2035190.zip-23', '3677501_2035195.zip-0'],\n",
       " ['3677500_2035190.zip-23', '3677502_2035200.zip-20'],\n",
       " ['3677500_2035190.zip-24'],\n",
       " ['3677500_2035190.zip-24'],\n",
       " ['3677500_2035190.zip-24'],\n",
       " ['3677500_2035190.zip-24'],\n",
       " ['3677500_2035190.zip-24', '3677502_2035200.zip-18'],\n",
       " ['3677500_2035190.zip-24'],\n",
       " ['3677501_2035195.zip-0'],\n",
       " ['3677501_2035195.zip-0'],\n",
       " ['3677501_2035195.zip-0'],\n",
       " ['3677501_2035195.zip-0'],\n",
       " ['3677501_2035195.zip-0'],\n",
       " ['3677501_2035195.zip-0'],\n",
       " ['3677501_2035195.zip-0'],\n",
       " ['3677501_2035195.zip-1'],\n",
       " ['3677501_2035195.zip-1'],\n",
       " ['3677501_2035195.zip-1'],\n",
       " ['3677501_2035195.zip-1'],\n",
       " ['3677501_2035195.zip-1'],\n",
       " ['3677501_2035195.zip-1'],\n",
       " ['3677501_2035195.zip-1'],\n",
       " ['3677501_2035195.zip-2'],\n",
       " ['3677501_2035195.zip-2'],\n",
       " ['3677501_2035195.zip-2'],\n",
       " ['3677501_2035195.zip-2'],\n",
       " ['3677501_2035195.zip-2'],\n",
       " ['3677501_2035195.zip-3'],\n",
       " ['3677501_2035195.zip-3'],\n",
       " ['3677501_2035195.zip-3'],\n",
       " ['3677501_2035195.zip-3'],\n",
       " ['3677501_2035195.zip-3'],\n",
       " ['3677501_2035195.zip-3'],\n",
       " ['3677501_2035195.zip-3'],\n",
       " ['3677501_2035195.zip-3'],\n",
       " ['3677501_2035195.zip-4'],\n",
       " ['3677501_2035195.zip-4'],\n",
       " ['3677501_2035195.zip-4'],\n",
       " ['3677501_2035195.zip-4'],\n",
       " ['3677501_2035195.zip-4'],\n",
       " ['3677501_2035195.zip-4'],\n",
       " ['3677501_2035195.zip-4', '3677502_2035200.zip-10'],\n",
       " ['3677501_2035195.zip-4'],\n",
       " ['3677501_2035195.zip-5'],\n",
       " ['3677501_2035195.zip-5'],\n",
       " ['3677501_2035195.zip-5'],\n",
       " ['3677501_2035195.zip-5'],\n",
       " ['3677501_2035195.zip-5'],\n",
       " ['3677501_2035195.zip-6'],\n",
       " ['3677501_2035195.zip-6'],\n",
       " ['3677501_2035195.zip-6'],\n",
       " ['3677501_2035195.zip-6'],\n",
       " ['3677501_2035195.zip-6'],\n",
       " ['3677501_2035195.zip-6'],\n",
       " ['3677501_2035195.zip-6'],\n",
       " ['3677501_2035195.zip-7'],\n",
       " ['3677501_2035195.zip-7'],\n",
       " ['3677501_2035195.zip-7'],\n",
       " ['3677501_2035195.zip-7', '3677502_2035200.zip-23'],\n",
       " ['3677501_2035195.zip-7'],\n",
       " ['3677501_2035195.zip-7'],\n",
       " ['3677501_2035195.zip-7'],\n",
       " ['3677501_2035195.zip-8'],\n",
       " ['3677501_2035195.zip-8'],\n",
       " ['3677501_2035195.zip-8'],\n",
       " ['3677501_2035195.zip-8'],\n",
       " ['3677501_2035195.zip-8'],\n",
       " ['3677501_2035195.zip-9'],\n",
       " ['3677501_2035195.zip-9'],\n",
       " ['3677501_2035195.zip-9'],\n",
       " ['3677501_2035195.zip-9', '3677502_2035200.zip-1'],\n",
       " ['3677501_2035195.zip-9'],\n",
       " ['3677501_2035195.zip-9'],\n",
       " ['3677501_2035195.zip-9'],\n",
       " ['3677501_2035195.zip-10'],\n",
       " ['3677501_2035195.zip-10'],\n",
       " ['3677501_2035195.zip-10', '3677502_2035200.zip-24'],\n",
       " ['3677501_2035195.zip-10'],\n",
       " ['3677501_2035195.zip-10', '3677502_2035200.zip-16'],\n",
       " ['3677501_2035195.zip-10'],\n",
       " ['3677501_2035195.zip-10'],\n",
       " ['3677501_2035195.zip-10'],\n",
       " ['3677501_2035195.zip-11'],\n",
       " ['3677501_2035195.zip-11'],\n",
       " ['3677501_2035195.zip-11'],\n",
       " ['3677501_2035195.zip-11'],\n",
       " ['3677501_2035195.zip-11'],\n",
       " ['3677501_2035195.zip-11'],\n",
       " ['3677501_2035195.zip-11'],\n",
       " ['3677501_2035195.zip-11'],\n",
       " ['3677501_2035195.zip-12', '3677502_2035200.zip-8'],\n",
       " ['3677501_2035195.zip-12'],\n",
       " ['3677501_2035195.zip-12'],\n",
       " ['3677501_2035195.zip-12'],\n",
       " ['3677501_2035195.zip-12'],\n",
       " ['3677501_2035195.zip-12'],\n",
       " ['3677501_2035195.zip-12'],\n",
       " ['3677501_2035195.zip-12'],\n",
       " ['3677501_2035195.zip-13'],\n",
       " ['3677501_2035195.zip-13'],\n",
       " ['3677501_2035195.zip-13'],\n",
       " ['3677501_2035195.zip-13'],\n",
       " ['3677501_2035195.zip-13'],\n",
       " ['3677501_2035195.zip-13'],\n",
       " ['3677501_2035195.zip-13'],\n",
       " ['3677501_2035195.zip-14'],\n",
       " ['3677501_2035195.zip-14'],\n",
       " ['3677501_2035195.zip-14'],\n",
       " ['3677501_2035195.zip-14'],\n",
       " ['3677501_2035195.zip-14'],\n",
       " ['3677501_2035195.zip-14'],\n",
       " ['3677501_2035195.zip-14'],\n",
       " ['3677501_2035195.zip-14'],\n",
       " ['3677501_2035195.zip-15'],\n",
       " ['3677501_2035195.zip-15'],\n",
       " ['3677501_2035195.zip-15'],\n",
       " ['3677501_2035195.zip-15'],\n",
       " ['3677501_2035195.zip-15'],\n",
       " ['3677501_2035195.zip-15'],\n",
       " ['3677501_2035195.zip-15', '3677501_2035195.zip-20'],\n",
       " ['3677501_2035195.zip-16'],\n",
       " ['3677501_2035195.zip-16'],\n",
       " ['3677501_2035195.zip-16'],\n",
       " ['3677501_2035195.zip-16'],\n",
       " ['3677501_2035195.zip-16'],\n",
       " ['3677501_2035195.zip-16'],\n",
       " ['3677501_2035195.zip-16'],\n",
       " ['3677501_2035195.zip-17'],\n",
       " ['3677501_2035195.zip-17'],\n",
       " ['3677501_2035195.zip-17'],\n",
       " ['3677501_2035195.zip-17'],\n",
       " ['3677501_2035195.zip-17'],\n",
       " ['3677501_2035195.zip-17'],\n",
       " ['3677501_2035195.zip-17'],\n",
       " ['3677501_2035195.zip-18'],\n",
       " ['3677501_2035195.zip-18'],\n",
       " ['3677501_2035195.zip-18'],\n",
       " ['3677501_2035195.zip-18'],\n",
       " ['3677501_2035195.zip-18'],\n",
       " ['3677501_2035195.zip-18', '3677501_2035195.zip-20'],\n",
       " ['3677501_2035195.zip-18'],\n",
       " ['3677501_2035195.zip-18'],\n",
       " ['3677501_2035195.zip-19'],\n",
       " ['3677501_2035195.zip-19'],\n",
       " ['3677501_2035195.zip-19'],\n",
       " ['3677501_2035195.zip-19'],\n",
       " ['3677501_2035195.zip-19'],\n",
       " ['3677501_2035195.zip-19'],\n",
       " ['3677501_2035195.zip-20'],\n",
       " ['3677501_2035195.zip-20'],\n",
       " ['3677501_2035195.zip-20'],\n",
       " ['3677501_2035195.zip-20'],\n",
       " ['3677501_2035195.zip-20'],\n",
       " ['3677501_2035195.zip-20'],\n",
       " ['3677501_2035195.zip-21'],\n",
       " ['3677501_2035195.zip-21'],\n",
       " ['3677501_2035195.zip-21'],\n",
       " ['3677501_2035195.zip-21'],\n",
       " ['3677501_2035195.zip-21'],\n",
       " ['3677501_2035195.zip-21'],\n",
       " ['3677501_2035195.zip-21'],\n",
       " ['3677501_2035195.zip-22'],\n",
       " ['3677501_2035195.zip-22'],\n",
       " ['3677501_2035195.zip-22'],\n",
       " ['3677501_2035195.zip-22'],\n",
       " ['3677501_2035195.zip-22'],\n",
       " ['3677501_2035195.zip-22'],\n",
       " ['3677501_2035195.zip-22'],\n",
       " ['3677501_2035195.zip-23'],\n",
       " ['3677501_2035195.zip-23'],\n",
       " ['3677501_2035195.zip-23'],\n",
       " ['3677501_2035195.zip-23'],\n",
       " ['3677501_2035195.zip-23'],\n",
       " ['3677501_2035195.zip-23'],\n",
       " ['3677501_2035195.zip-23'],\n",
       " ['3677501_2035195.zip-24'],\n",
       " ['3677501_2035195.zip-24'],\n",
       " ['3677501_2035195.zip-24'],\n",
       " ['3677501_2035195.zip-24'],\n",
       " ['3677501_2035195.zip-24'],\n",
       " ['3677501_2035195.zip-24'],\n",
       " ['3677502_2035200.zip-0'],\n",
       " ['3677502_2035200.zip-0', '3677502_2035200.zip-12'],\n",
       " ['3677502_2035200.zip-0'],\n",
       " ['3677502_2035200.zip-0'],\n",
       " ['3677502_2035200.zip-0'],\n",
       " ['3677502_2035200.zip-0'],\n",
       " ['3677502_2035200.zip-0'],\n",
       " ['3677502_2035200.zip-1'],\n",
       " ['3677502_2035200.zip-1'],\n",
       " ['3677502_2035200.zip-1', '3677502_2035200.zip-7'],\n",
       " ['3677502_2035200.zip-1'],\n",
       " ['3677502_2035200.zip-1'],\n",
       " ['3677502_2035200.zip-2'],\n",
       " ['3677502_2035200.zip-2'],\n",
       " ['3677502_2035200.zip-2'],\n",
       " ['3677502_2035200.zip-2'],\n",
       " ['3677502_2035200.zip-2'],\n",
       " ['3677502_2035200.zip-2', '3677502_2035200.zip-8'],\n",
       " ['3677502_2035200.zip-2'],\n",
       " ['3677502_2035200.zip-3'],\n",
       " ['3677502_2035200.zip-3'],\n",
       " ['3677502_2035200.zip-3'],\n",
       " ['3677502_2035200.zip-3'],\n",
       " ['3677502_2035200.zip-3'],\n",
       " ['3677502_2035200.zip-4'],\n",
       " ['3677502_2035200.zip-4'],\n",
       " ['3677502_2035200.zip-4'],\n",
       " ['3677502_2035200.zip-4'],\n",
       " ['3677502_2035200.zip-4'],\n",
       " ['3677502_2035200.zip-4'],\n",
       " ['3677502_2035200.zip-5'],\n",
       " ['3677502_2035200.zip-5'],\n",
       " ['3677502_2035200.zip-5'],\n",
       " ['3677502_2035200.zip-5'],\n",
       " ['3677502_2035200.zip-5'],\n",
       " ['3677502_2035200.zip-5'],\n",
       " ['3677502_2035200.zip-5'],\n",
       " ['3677502_2035200.zip-6'],\n",
       " ['3677502_2035200.zip-6'],\n",
       " ['3677502_2035200.zip-6'],\n",
       " ['3677502_2035200.zip-6'],\n",
       " ['3677502_2035200.zip-6'],\n",
       " ['3677502_2035200.zip-6'],\n",
       " ['3677502_2035200.zip-6', '3677502_2035200.zip-24'],\n",
       " ['3677502_2035200.zip-6'],\n",
       " ['3677502_2035200.zip-7'],\n",
       " ['3677502_2035200.zip-7'],\n",
       " ['3677502_2035200.zip-7'],\n",
       " ['3677502_2035200.zip-7'],\n",
       " ['3677502_2035200.zip-7'],\n",
       " ['3677502_2035200.zip-8'],\n",
       " ['3677502_2035200.zip-8'],\n",
       " ['3677502_2035200.zip-8'],\n",
       " ['3677502_2035200.zip-8'],\n",
       " ['3677502_2035200.zip-8'],\n",
       " ['3677502_2035200.zip-9'],\n",
       " ['3677502_2035200.zip-9'],\n",
       " ['3677502_2035200.zip-9'],\n",
       " ['3677502_2035200.zip-9'],\n",
       " ['3677502_2035200.zip-9'],\n",
       " ['3677502_2035200.zip-9'],\n",
       " ['3677502_2035200.zip-9'],\n",
       " ['3677502_2035200.zip-10'],\n",
       " ['3677502_2035200.zip-10'],\n",
       " ['3677502_2035200.zip-10'],\n",
       " ['3677502_2035200.zip-10'],\n",
       " ['3677502_2035200.zip-10'],\n",
       " ['3677502_2035200.zip-10'],\n",
       " ['3677502_2035200.zip-11'],\n",
       " ['3677502_2035200.zip-11'],\n",
       " ['3677502_2035200.zip-11'],\n",
       " ['3677502_2035200.zip-11'],\n",
       " ['3677502_2035200.zip-11'],\n",
       " ['3677502_2035200.zip-11'],\n",
       " ['3677502_2035200.zip-11'],\n",
       " ['3677502_2035200.zip-11'],\n",
       " ['3677502_2035200.zip-12'],\n",
       " ['3677502_2035200.zip-12'],\n",
       " ['3677502_2035200.zip-12'],\n",
       " ['3677502_2035200.zip-12'],\n",
       " ['3677502_2035200.zip-13'],\n",
       " ['3677502_2035200.zip-13'],\n",
       " ['3677502_2035200.zip-13'],\n",
       " ['3677502_2035200.zip-13', '3677502_2035200.zip-17'],\n",
       " ['3677502_2035200.zip-13'],\n",
       " ['3677502_2035200.zip-14'],\n",
       " ['3677502_2035200.zip-14'],\n",
       " ['3677502_2035200.zip-14'],\n",
       " ['3677502_2035200.zip-14'],\n",
       " ['3677502_2035200.zip-14'],\n",
       " ['3677502_2035200.zip-14'],\n",
       " ['3677502_2035200.zip-14'],\n",
       " ['3677502_2035200.zip-15'],\n",
       " ['3677502_2035200.zip-15'],\n",
       " ['3677502_2035200.zip-15'],\n",
       " ['3677502_2035200.zip-15'],\n",
       " ['3677502_2035200.zip-15'],\n",
       " ['3677502_2035200.zip-15'],\n",
       " ['3677502_2035200.zip-15'],\n",
       " ['3677502_2035200.zip-16'],\n",
       " ['3677502_2035200.zip-16'],\n",
       " ['3677502_2035200.zip-16'],\n",
       " ['3677502_2035200.zip-16'],\n",
       " ['3677502_2035200.zip-17'],\n",
       " ['3677502_2035200.zip-17'],\n",
       " ['3677502_2035200.zip-17'],\n",
       " ['3677502_2035200.zip-17'],\n",
       " ['3677502_2035200.zip-17'],\n",
       " ['3677502_2035200.zip-17'],\n",
       " ['3677502_2035200.zip-17'],\n",
       " ['3677502_2035200.zip-18'],\n",
       " ['3677502_2035200.zip-18'],\n",
       " ['3677502_2035200.zip-18'],\n",
       " ['3677502_2035200.zip-18'],\n",
       " ['3677502_2035200.zip-18'],\n",
       " ['3677502_2035200.zip-18'],\n",
       " ['3677502_2035200.zip-18'],\n",
       " ['3677502_2035200.zip-19'],\n",
       " ['3677502_2035200.zip-19'],\n",
       " ['3677502_2035200.zip-19'],\n",
       " ['3677502_2035200.zip-19'],\n",
       " ['3677502_2035200.zip-19'],\n",
       " ['3677502_2035200.zip-19'],\n",
       " ['3677502_2035200.zip-19'],\n",
       " ['3677502_2035200.zip-20'],\n",
       " ['3677502_2035200.zip-20'],\n",
       " ['3677502_2035200.zip-20'],\n",
       " ['3677502_2035200.zip-20'],\n",
       " ['3677502_2035200.zip-20'],\n",
       " ['3677502_2035200.zip-21'],\n",
       " ['3677502_2035200.zip-21'],\n",
       " ['3677502_2035200.zip-21'],\n",
       " ['3677502_2035200.zip-21'],\n",
       " ['3677502_2035200.zip-21'],\n",
       " ['3677502_2035200.zip-22'],\n",
       " ['3677502_2035200.zip-22'],\n",
       " ['3677502_2035200.zip-22'],\n",
       " ['3677502_2035200.zip-22'],\n",
       " ['3677502_2035200.zip-22'],\n",
       " ['3677502_2035200.zip-22'],\n",
       " ['3677502_2035200.zip-23'],\n",
       " ['3677502_2035200.zip-23'],\n",
       " ['3677502_2035200.zip-23'],\n",
       " ['3677502_2035200.zip-23'],\n",
       " ['3677502_2035200.zip-23'],\n",
       " ['3677502_2035200.zip-24'],\n",
       " ['3677502_2035200.zip-24'],\n",
       " ['3677502_2035200.zip-24'],\n",
       " ['3677502_2035200.zip-24'],\n",
       " ['3677502_2035200.zip-24'],\n",
       " ['3677502_2035200.zip-24']]"
      ]
     },
     "execution_count": 196,
     "metadata": {},
     "output_type": "execute_result"
    }
   ],
   "source": [
    "templshRdd_2"
   ]
  },
  {
   "cell_type": "code",
   "execution_count": 185,
   "metadata": {
    "collapsed": true
   },
   "outputs": [],
   "source": [
    "templshRdd_3 = templshRdd_2.map(lambda key: appendMatcheddNames(key)).flatMap(lambda key: key)"
   ]
  },
  {
   "cell_type": "code",
   "execution_count": 186,
   "metadata": {},
   "outputs": [],
   "source": [
    "candidatesListCheck = templshRdd_3.groupByKey().map(lambda x: (x[0],set(x[1]))).\\\n",
    "        map(lambda x:(x[0],list(x[1]))).collect()"
   ]
  },
  {
   "cell_type": "code",
   "execution_count": 187,
   "metadata": {},
   "outputs": [
    {
     "data": {
      "text/plain": [
       "[('3677454_2025195.zip-18', ['3677453_2025190.zip-13']),\n",
       " ('3677454_2025195.zip-0',\n",
       "  ['3677501_2035195.zip-2',\n",
       "   '3677502_2035200.zip-21',\n",
       "   '3677501_2035195.zip-9']),\n",
       " ('3677454_2025195.zip-19',\n",
       "  ['3677501_2035195.zip-2', '3677500_2035190.zip-19'])]"
      ]
     },
     "execution_count": 187,
     "metadata": {},
     "output_type": "execute_result"
    }
   ],
   "source": [
    "candidatesListCheck"
   ]
  },
  {
   "cell_type": "code",
   "execution_count": 177,
   "metadata": {},
   "outputs": [
    {
     "data": {
      "text/plain": [
       "[('3677454_2025195.zip-1',\n",
       "  {'3677453_2025190.zip-0',\n",
       "   '3677453_2025190.zip-12',\n",
       "   '3677453_2025190.zip-16',\n",
       "   '3677454_2025195.zip-10',\n",
       "   '3677454_2025195.zip-20',\n",
       "   '3677500_2035190.zip-14',\n",
       "   '3677500_2035190.zip-19',\n",
       "   '3677500_2035190.zip-23',\n",
       "   '3677500_2035190.zip-24',\n",
       "   '3677500_2035190.zip-4',\n",
       "   '3677500_2035190.zip-5',\n",
       "   '3677501_2035195.zip-4',\n",
       "   '3677502_2035200.zip-12',\n",
       "   '3677502_2035200.zip-20'}),\n",
       " ('3677454_2025195.zip-18',\n",
       "  {'3677453_2025190.zip-4',\n",
       "   '3677453_2025190.zip-8',\n",
       "   '3677500_2035190.zip-12',\n",
       "   '3677500_2035190.zip-20',\n",
       "   '3677500_2035190.zip-3',\n",
       "   '3677500_2035190.zip-6',\n",
       "   '3677501_2035195.zip-17',\n",
       "   '3677501_2035195.zip-24',\n",
       "   '3677501_2035195.zip-3',\n",
       "   '3677502_2035200.zip-10',\n",
       "   '3677502_2035200.zip-13',\n",
       "   '3677502_2035200.zip-14',\n",
       "   '3677502_2035200.zip-17',\n",
       "   '3677502_2035200.zip-21',\n",
       "   '3677502_2035200.zip-22',\n",
       "   '3677502_2035200.zip-4',\n",
       "   '3677502_2035200.zip-5'}),\n",
       " ('3677454_2025195.zip-0',\n",
       "  {'3677453_2025190.zip-11',\n",
       "   '3677453_2025190.zip-20',\n",
       "   '3677453_2025190.zip-24',\n",
       "   '3677454_2025195.zip-5',\n",
       "   '3677454_2025195.zip-6',\n",
       "   '3677500_2035190.zip-23'}),\n",
       " ('3677454_2025195.zip-19',\n",
       "  {'3677453_2025190.zip-15',\n",
       "   '3677453_2025190.zip-21',\n",
       "   '3677453_2025190.zip-23',\n",
       "   '3677454_2025195.zip-16',\n",
       "   '3677454_2025195.zip-3',\n",
       "   '3677454_2025195.zip-4',\n",
       "   '3677454_2025195.zip-7',\n",
       "   '3677454_2025195.zip-8',\n",
       "   '3677500_2035190.zip-10',\n",
       "   '3677500_2035190.zip-11',\n",
       "   '3677500_2035190.zip-14',\n",
       "   '3677500_2035190.zip-15',\n",
       "   '3677500_2035190.zip-23',\n",
       "   '3677500_2035190.zip-4',\n",
       "   '3677501_2035195.zip-21',\n",
       "   '3677502_2035200.zip-0',\n",
       "   '3677502_2035200.zip-19',\n",
       "   '3677502_2035200.zip-2',\n",
       "   '3677502_2035200.zip-21'})]"
      ]
     },
     "execution_count": 177,
     "metadata": {},
     "output_type": "execute_result"
    }
   ],
   "source": [
    "rdd_3b"
   ]
  },
  {
   "cell_type": "code",
   "execution_count": 197,
   "metadata": {},
   "outputs": [],
   "source": [
    "rdd_3b = lshRdd.map(lambda x : ( x[0], getBucketsMapped(x[2],8,491) )).flatMapValues(lambda x : x).\\\n",
    "            map(lambda x : (x[1],x[0])).groupByKey().filter(lambda x : isIn3b(x[1])).\\\n",
    "                filter(lambda x : len(x[1])>1).map(lambda x : x[1]).map(lambda x : makeTuple(x)).\\\n",
    "                    flatMap(lambda x : x).groupByKey().map(lambda x : (x[0], set(x[1]))).collect()"
   ]
  },
  {
   "cell_type": "code",
   "execution_count": null,
   "metadata": {
    "collapsed": true
   },
   "outputs": [],
   "source": []
  },
  {
   "cell_type": "code",
   "execution_count": 156,
   "metadata": {
    "collapsed": true
   },
   "outputs": [],
   "source": [
    "def isIn3b(lis):\n",
    "    list_3b = [\"3677454_2025195.zip-0\",\"3677454_2025195.zip-1\", '3677454_2025195.zip-18', \"3677454_2025195.zip-19\"]\n",
    "    for ele in lis:\n",
    "        if ele in list_3b:\n",
    "            return True\n",
    "    return False"
   ]
  },
  {
   "cell_type": "code",
   "execution_count": 158,
   "metadata": {},
   "outputs": [],
   "source": [
    "def makeTuple(lis):\n",
    "    list_3b = [\n",
    "        \"3677454_2025195.zip-0\", \"3677454_2025195.zip-1\",\n",
    "        '3677454_2025195.zip-18', \"3677454_2025195.zip-19\"\n",
    "    ]\n",
    "    res = list()\n",
    "    for candidate in list_3b:\n",
    "        if candidate in lis:\n",
    "            for item in lis:\n",
    "                if item != candidate:\n",
    "                    res.append((candidate, item))\n",
    "    return res"
   ]
  },
  {
   "cell_type": "code",
   "execution_count": 172,
   "metadata": {
    "scrolled": true
   },
   "outputs": [
    {
     "data": {
      "text/plain": [
       "'3677454_2025195.zip-18'"
      ]
     },
     "execution_count": 172,
     "metadata": {},
     "output_type": "execute_result"
    }
   ],
   "source": [
    "candidatesListCheck[0][0]"
   ]
  },
  {
   "cell_type": "code",
   "execution_count": 198,
   "metadata": {},
   "outputs": [
    {
     "name": "stdout",
     "output_type": "stream",
     "text": [
      "3677454_2025195.zip-18 1\n",
      "3677454_2025195.zip-0 3\n",
      "3677454_2025195.zip-19 2\n"
     ]
    }
   ],
   "source": [
    "for individualSet in rdd_3b:\n",
    "    print(individualSet[0],len(individualSet[1]))"
   ]
  },
  {
   "cell_type": "code",
   "execution_count": 110,
   "metadata": {
    "scrolled": true
   },
   "outputs": [
    {
     "name": "stdout",
     "output_type": "stream",
     "text": [
      "3677454_2025195.zip-1 ==== Candidate List ===== ['3677502_2035200.zip-12', '3677453_2025190.zip-0', '3677500_2035190.zip-19', '3677453_2025190.zip-12', '3677502_2035200.zip-20', '3677500_2035190.zip-4', '3677454_2025195.zip-20', '3677454_2025195.zip-10', '3677500_2035190.zip-5', '3677501_2035195.zip-4', '3677500_2035190.zip-24', '3677500_2035190.zip-23', '3677500_2035190.zip-14', '3677453_2025190.zip-16']\n",
      "3677454_2025195.zip-18 ==== Candidate List ===== ['3677500_2035190.zip-20', '3677502_2035200.zip-10', '3677502_2035200.zip-21', '3677502_2035200.zip-17', '3677500_2035190.zip-12', '3677502_2035200.zip-5', '3677453_2025190.zip-8', '3677500_2035190.zip-3', '3677501_2035195.zip-3', '3677502_2035200.zip-22', '3677502_2035200.zip-14', '3677502_2035200.zip-13', '3677453_2025190.zip-4', '3677500_2035190.zip-6', '3677501_2035195.zip-24', '3677501_2035195.zip-17', '3677502_2035200.zip-4']\n"
     ]
    }
   ],
   "source": [
    "questionList3B = ['3677454_2025195.zip-1', '3677454_2025195.zip-18']\n",
    "for i in range(len(candidatesListCheck)):\n",
    "    if candidatesListCheck[i][0] in questionList3B:\n",
    "        print(candidatesListCheck[i][0],\"==== Candidate List =====\",candidatesListCheck[i][1])"
   ]
  },
  {
   "cell_type": "code",
   "execution_count": 90,
   "metadata": {},
   "outputs": [],
   "source": [
    "vectorsToBeTakenList = list()\n",
    "for i in range(len(candidatesListCheck)):\n",
    "    if candidatesListCheck[i][0] in questionList3B:\n",
    "        vectorsToBeTakenList.extend(candidatesListCheck[i][1])\n",
    "vectorsToBeTakenList.extend(questionList3B)\n",
    "vectorsToBeTakenList = set(vectorsToBeTakenList)\n",
    "vectorsToBeTakenList = list(vectorsToBeTakenList)"
   ]
  },
  {
   "cell_type": "markdown",
   "metadata": {},
   "source": [
    "### SVD"
   ]
  },
  {
   "cell_type": "code",
   "execution_count": 55,
   "metadata": {
    "collapsed": true
   },
   "outputs": [],
   "source": [
    "def makePair(nameSVD):\n",
    "    name, vector = nameSVD\n",
    "    temp = []\n",
    "    i = 0\n",
    "    for ele in name:\n",
    "        temp.append((ele,vector[i]))\n",
    "        i += 1\n",
    "    return temp"
   ]
  },
  {
   "cell_type": "code",
   "execution_count": 56,
   "metadata": {
    "collapsed": true
   },
   "outputs": [],
   "source": [
    "def getNameVector(namevector1,namevector2,featureLength):\n",
    "    name1 , vector1 = namevector1\n",
    "    name2 , vector2 = namevector2\n",
    "    a = np.array(vector1)\n",
    "    b = np.array(vector2)\n",
    "    return np.append(name1,name2),np.reshape(np.append(a,b),(-1,featureLength))"
   ]
  },
  {
   "cell_type": "code",
   "execution_count": 57,
   "metadata": {
    "collapsed": true
   },
   "outputs": [],
   "source": [
    "def getTag(st):\n",
    "    a = st.split(\"-\")[0]\n",
    "    return a"
   ]
  },
  {
   "cell_type": "code",
   "execution_count": 58,
   "metadata": {
    "collapsed": true
   },
   "outputs": [],
   "source": [
    "def SVD(image,dimensions):\n",
    "    mean = np.mean(image, axis=0)\n",
    "    stDev = np.std(image, axis=0)\n",
    "#     np.nan_to_num(stDev)\n",
    "    stDev[stDev == 0] = 1\n",
    "    \n",
    "    img_zscore = (image - mean) / stDev\n",
    "\n",
    "    U, s, Vh = linalg.svd(img_zscore, full_matrices=1)\n",
    "\n",
    "#     img_zscore_lowdim = U[:,0:dimensions]\n",
    "    \n",
    "    return Vh[:,0:dimensions]"
   ]
  },
  {
   "cell_type": "code",
   "execution_count": 59,
   "metadata": {
    "collapsed": true
   },
   "outputs": [],
   "source": [
    "def SVDFromCommonV(image,vBroadCast):\n",
    "    mean = np.mean(image, axis=0)\n",
    "    stDev = np.std(image, axis=0)\n",
    "#     np.nan_to_num(stDev)\n",
    "    stDev[stDev == 0] = 1\n",
    "    \n",
    "    img_zscore = (image - mean) / stDev\n",
    "    img_zscore = np.array(img_zscore)\n",
    "    img_zscore_lowdim = np.matmul(img_zscore , vBroadCast.value)\n",
    "    \n",
    "    return img_zscore_lowdim"
   ]
  },
  {
   "cell_type": "code",
   "execution_count": 96,
   "metadata": {
    "collapsed": true
   },
   "outputs": [],
   "source": [
    "# rdd = sc.parallelize([(\"abc-1\",[1,2,3,4]),(\"def-2\",[5,6,7,8]),(\"def-2\",[15,16,17,18]),(\"abc-1\",[0,9,8,7]),(\"def-2\",[25,26,27,28]),(\"abc-1\",[1,2,3,4])])\n",
    "# rdd2 = rdd.map(lambda x:(getTag(x[0]),(x[0],x[1]))).reduceByKey(lambda a,b: getNameVector(a,b,4))\n",
    "# rdd3 = rdd2.map(lambda x:(x[1][0],SVD(x[1][1],2)))\n",
    "# abb = rdd3.\\\n",
    "# map(lambda x : makePair(x)).\\\n",
    "# flatMap(lambda x:x).collect()"
   ]
  },
  {
   "cell_type": "code",
   "execution_count": 98,
   "metadata": {},
   "outputs": [
    {
     "data": {
      "text/plain": [
       "('abc-1', array([-0.5,  0.5]))"
      ]
     },
     "execution_count": 98,
     "metadata": {},
     "output_type": "execute_result"
    }
   ],
   "source": [
    "abb[0]"
   ]
  },
  {
   "cell_type": "code",
   "execution_count": 63,
   "metadata": {},
   "outputs": [],
   "source": [
    "lshRdd_3 = lshRdd_1.map(lambda key:(getTag(key[0]),(key[0],key[1]))).reduceByKey(lambda a,b: getNameVector(a,b,4900))\n",
    "lshRdd_4 = lshRdd_3.map(lambda key:(key[1][0],SVD(key[1][1], 10)))\n",
    "vCollect = lshRdd_4.take(1)"
   ]
  },
  {
   "cell_type": "code",
   "execution_count": 64,
   "metadata": {},
   "outputs": [
    {
     "data": {
      "text/plain": [
       "(4900, 10)"
      ]
     },
     "execution_count": 64,
     "metadata": {},
     "output_type": "execute_result"
    }
   ],
   "source": [
    "vCollect[0][1].shape"
   ]
  },
  {
   "cell_type": "code",
   "execution_count": 65,
   "metadata": {
    "collapsed": true
   },
   "outputs": [],
   "source": [
    "vBroadCast = sc.broadcast(vCollect[0][1])"
   ]
  },
  {
   "cell_type": "code",
   "execution_count": 66,
   "metadata": {
    "collapsed": true
   },
   "outputs": [],
   "source": [
    "# arr1 = [[1,2],[3,4]]\n",
    "# arr1 = np.array(arr1)\n",
    "# arr2 = [[1,0],[1,1]]\n",
    "# arr2 = np.array(arr2)\n",
    "# np.matmul(arr1 , arr2)"
   ]
  },
  {
   "cell_type": "code",
   "execution_count": 100,
   "metadata": {},
   "outputs": [],
   "source": [
    "lshRdd_3 = lshRdd_1.map(lambda key:(getTag(key[0]),(key[0],key[1]))).reduceByKey(lambda a,b: getNameVector(a,b,4900))\n",
    "lshRdd_4 = lshRdd_3.map(lambda key:(key[1][0],SVDFromCommonV(key[1][1],vBroadCast))).map(lambda key : makePair(key)).flatMap(lambda x:x)\n",
    "svdList = lshRdd_4.filter(lambda x: x[0] in vectorsToBeTakenList).collect()"
   ]
  },
  {
   "cell_type": "code",
   "execution_count": 107,
   "metadata": {},
   "outputs": [
    {
     "data": {
      "text/plain": [
       "('3677453_2025190.zip-4',\n",
       " array([ -3.56789561e+00,  -3.19502577e+00,   5.32611362e+00,\n",
       "          2.61382641e+00,  -6.88707359e+01,  -9.54627949e-01,\n",
       "         -2.44733200e-01,  -1.83744038e+00,   1.68935723e-01,\n",
       "         -1.21716331e-02]))"
      ]
     },
     "execution_count": 107,
     "metadata": {},
     "output_type": "execute_result"
    }
   ],
   "source": [
    "svdList[1]"
   ]
  },
  {
   "cell_type": "code",
   "execution_count": 108,
   "metadata": {
    "collapsed": true
   },
   "outputs": [],
   "source": [
    "def getVectors(name):\n",
    "    for i in range(len(svdList)):\n",
    "        if svdList[i][0] == name:\n",
    "            return svdList[i][1]"
   ]
  },
  {
   "cell_type": "code",
   "execution_count": 112,
   "metadata": {},
   "outputs": [
    {
     "name": "stdout",
     "output_type": "stream",
     "text": [
      "Distance Between 3677454_2025195.zip-1 and its candidate pairs sorted from least to highest:\n",
      "\n",
      "3677500_2035190.zip-14         3.3227992230697865\n",
      "3677502_2035200.zip-20         4.6586010114006715\n",
      "3677501_2035195.zip-4         4.693895246574818\n",
      "3677454_2025195.zip-20         4.697569940712177\n",
      "3677502_2035200.zip-12         4.839827413819539\n",
      "3677500_2035190.zip-23         4.952445345204258\n",
      "3677454_2025195.zip-10         4.994445546102303\n",
      "3677500_2035190.zip-5         5.086496507687073\n",
      "3677500_2035190.zip-24         5.332599497712025\n",
      "3677500_2035190.zip-4         5.880446082000745\n",
      "3677500_2035190.zip-19         7.039475711803563\n",
      "3677453_2025190.zip-12         12.200370968457863\n",
      "3677453_2025190.zip-16         14.797913807537558\n",
      "3677453_2025190.zip-0         63.711480587737924\n",
      "\n",
      "\n",
      "Distance Between 3677454_2025195.zip-18 and its candidate pairs sorted from least to highest:\n",
      "\n",
      "3677500_2035190.zip-6         3.852610590858557\n",
      "3677502_2035200.zip-10         3.8532543756566633\n",
      "3677502_2035200.zip-14         4.145306979854403\n",
      "3677502_2035200.zip-21         4.148447153501851\n",
      "3677502_2035200.zip-22         4.508456649790449\n",
      "3677502_2035200.zip-13         4.666377559171224\n",
      "3677502_2035200.zip-5         4.749009163804378\n",
      "3677501_2035195.zip-24         4.792253564686971\n",
      "3677502_2035200.zip-4         4.923950879300755\n",
      "3677502_2035200.zip-17         5.148565390632325\n",
      "3677500_2035190.zip-3         5.407062565054511\n",
      "3677501_2035195.zip-17         5.47932444992264\n",
      "3677500_2035190.zip-20         5.838557255861335\n",
      "3677500_2035190.zip-12         5.896779911504016\n",
      "3677501_2035195.zip-3         6.45442443510092\n",
      "3677453_2025190.zip-8         64.31534492200818\n",
      "3677453_2025190.zip-4         68.66541393273145\n",
      "\n",
      "\n"
     ]
    }
   ],
   "source": [
    "ques_3C_List = ['3677454_2025195.zip-1', '3677454_2025195.zip-18']\n",
    "for i in range(len(candidatesListCheck)):\n",
    "    if candidatesListCheck[i][0] in ques_3C_List:\n",
    "        parentName = candidatesListCheck[i][0]\n",
    "        vectorParent = getVectors(parentName)\n",
    "        print(\"Distance Between \" + str(parentName) + \" and its candidate pairs sorted from least to highest:\")\n",
    "        print()\n",
    "        temp = list()\n",
    "        for candidateName in candidatesListCheck[i][1]:\n",
    "            candidateVector = getVectors(candidateName)\n",
    "            temp.append(((candidateName) , \\\n",
    "                         float(np.linalg.norm(np.array(vectorParent)-np.array(candidateVector)))))\n",
    "        lis = sorted(temp,key=lambda x:x[1])\n",
    "        for x in lis:\n",
    "            print(x[0],\"       \",x[1])\n",
    "        print(\"\\n\")"
   ]
  },
  {
   "cell_type": "code",
   "execution_count": 113,
   "metadata": {},
   "outputs": [
    {
     "data": {
      "text/plain": [
       "PythonRDD[49] at RDD at PythonRDD.scala:48"
      ]
     },
     "execution_count": 113,
     "metadata": {},
     "output_type": "execute_result"
    }
   ],
   "source": [
    "imageRdd_1.persist()"
   ]
  },
  {
   "cell_type": "code",
   "execution_count": 311,
   "metadata": {
    "collapsed": true
   },
   "outputs": [],
   "source": [
    "def extraCreditDifferentFactor(factor):\n",
    "    imageRdd_2 = imageRdd_1.map(lambda key: (key[0],reductionResolution(key[1],factor)))\n",
    "    imageRdd_3 = imageRdd_2.map(lambda key: (key[0],row_diff(key[1]),col_diff(key[1]))).\\\n",
    "                    map(lambda key: (key[0],getFeature(key[1],key[2])))\n",
    "        \n",
    "    ques_2lis = [\"3677454_2025195.zip-1\", \"3677454_2025195.zip-18\"]\n",
    "    ques_2lis_broadcast = sc.broadcast(set(ques_2lis))\n",
    "    featuresList = imageRdd_3.filter(lambda key: key[0] in ques_2lis_broadcast.value).collect()\n",
    "    lis = [\"3677454_2025195.zip-1\", \"3677454_2025195.zip-18\"]\n",
    "    for tup in featuresList:\n",
    "        if tup[0] in lis:\n",
    "            print(tup[0],np.array(tup[1]))\n",
    "    lengthBroadCast = sc.broadcast(len(featuresList[0][1]))\n",
    "    print(lengthBroadCast.value)\n",
    "    lshRdd = imageRdd_3.map(lambda key: (key[0],key[1],getMD5HashForFeatures(key[1],128)))\n",
    "    lshRdd_1 = lshRdd.map(lambda key: (key[0],key[1],getBucketsMapped(key[2],64,101)))\n",
    "    bucketsMappedList = lshRdd_1.collect()\n",
    "    \n",
    "    allCandidateSet = set()\n",
    "    for i in range(len(bucketsMappedList)):\n",
    "        name,feature,bucket = bucketsMappedList[i]\n",
    "        candidateSet = set()\n",
    "        if name in questionList:\n",
    "            countdic = dict()\n",
    "            for j in range(len(bucket)):\n",
    "                for k in range(len(bucketsMappedList)):\n",
    "                    if i != k:\n",
    "                        candidatename,candidatefeature,candidatebuckets = bucketsMappedList[k]\n",
    "                        if candidatebuckets[j] == bucket[j] and candidatename != name:\n",
    "                            ctuple = (name,candidatename)\n",
    "                            if countdic.__contains__(ctuple) == False:\n",
    "                                countdic[ctuple] = 1\n",
    "                            else:\n",
    "                                candidateSet.add(candidatename)\n",
    "            allCandidateSet.add((name,tuple(candidateSet)))\n",
    "    allCandidateSet_broadcast = sc.broadcast(allCandidateSet)\n",
    "#     print(allCandidateSet_broadcast.value)\n",
    "    final = list()\n",
    "    for individualSet in allCandidateSet_broadcast.value:\n",
    "        temp = list()\n",
    "        for val in individualSet[1]:\n",
    "            temp.append(val)\n",
    "        final.append(temp)\n",
    "        print(individualSet[0],len(temp))\n",
    "        \n",
    "    lshRdd_2 = lshRdd_1.map(lambda key: (key[0],key[1],getCandidateList(key[0],allCandidateSet_broadcast)))\n",
    "    candidatesListCheck = lshRdd_2.filter(lambda key: key[0] in questionList).collect()\n",
    "\n",
    "    questionList3B = ['3677454_2025195.zip-1', '3677454_2025195.zip-18']\n",
    "    for i in range(len(candidatesListCheck)):\n",
    "        if candidatesListCheck[i][0] in questionList3B:\n",
    "            print(candidatesListCheck[i][0],\"==== Candidate List =====\",candidatesListCheck[i][2])\n",
    "            \n",
    "    lshRdd_3 = lshRdd_2.map(lambda key:(getTag(key[0]),(key[0],key[1]))).reduceByKey(lambda a,b: getNameVector(a,b,lengthBroadCast.value))\n",
    "    lshRdd_4 = lshRdd_3.map(lambda key:(key[1][0],SVD(key[1][1], 10)))\n",
    "    vCollect = lshRdd_4.take(1)\n",
    "\n",
    "    vBroadCast = sc.broadcast(vCollect[0][1])\n",
    "    lshRdd_3 = lshRdd_2.map(lambda key:(getTag(key[0]),(key[0],key[1]))).reduceByKey(lambda a,b: getNameVector(a,b,lengthBroadCast.value))\n",
    "    lshRdd_4 = lshRdd_3.map(lambda key:(key[1][0],SVDFromCommonV(key[1][1],vBroadCast))).map(lambda key : makePair(key)).flatMap(lambda x:x)\n",
    "    svdList = lshRdd_4.collect()\n",
    "    \n",
    "    ques_3C_List = ['3677454_2025195.zip-1', '3677454_2025195.zip-18']\n",
    "    for i in range(len(candidatesListCheck)):\n",
    "        if candidatesListCheck[i][0] in ques_3C_List:\n",
    "            parentName = candidatesListCheck[i][0]\n",
    "            vectorParent = getVectors(parentName)\n",
    "            print(\"Distance Between \" + str(parentName) + \" and its candidate pairs sorted from least to highest:\")\n",
    "            print()\n",
    "            temp = list()\n",
    "            for candidateName in candidatesListCheck[i][2]:\n",
    "                candidateVector = getVectors(candidateName)\n",
    "                temp.append(((candidateName) , \\\n",
    "                             float(np.linalg.norm(np.array(vectorParent)-np.array(candidateVector)))))\n",
    "            lis = sorted(temp,key=lambda x:x[1])\n",
    "            for x in lis:\n",
    "                print(x[0],\"       \",x[1])\n",
    "            print(\"\\n\")"
   ]
  },
  {
   "cell_type": "code",
   "execution_count": 312,
   "metadata": {},
   "outputs": [
    {
     "name": "stdout",
     "output_type": "stream",
     "text": [
      "3677454_2025195.zip-1 [ 0  1 -1 ...,  1 -1  1]\n",
      "3677454_2025195.zip-18 [-1 -1  0 ...,  1 -1 -1]\n",
      "4900\n",
      "3677454_2025195.zip-0 25\n",
      "3677454_2025195.zip-19 21\n",
      "3677454_2025195.zip-1 16\n",
      "3677454_2025195.zip-18 16\n",
      "3677454_2025195.zip-1 ==== Candidate List ===== ['3677500_2035190.zip-4', '3677500_2035190.zip-14', '3677454_2025195.zip-3', '3677501_2035195.zip-12', '3677501_2035195.zip-6', '3677501_2035195.zip-4', '3677501_2035195.zip-17', '3677453_2025190.zip-11', '3677502_2035200.zip-11', '3677501_2035195.zip-14', '3677501_2035195.zip-23', '3677501_2035195.zip-11', '3677500_2035190.zip-24', '3677500_2035190.zip-11', '3677500_2035190.zip-23', '3677453_2025190.zip-5']\n",
      "3677454_2025195.zip-18 ==== Candidate List ===== ['3677453_2025190.zip-8', '3677502_2035200.zip-16', '3677500_2035190.zip-20', '3677453_2025190.zip-15', '3677502_2035200.zip-8', '3677501_2035195.zip-16', '3677453_2025190.zip-1', '3677502_2035200.zip-22', '3677454_2025195.zip-4', '3677502_2035200.zip-9', '3677502_2035200.zip-23', '3677500_2035190.zip-9', '3677500_2035190.zip-11', '3677502_2035200.zip-24', '3677453_2025190.zip-5', '3677453_2025190.zip-24']\n",
      "Distance Between 3677454_2025195.zip-1 and its candidate pairs sorted from least to highest:\n",
      "\n",
      "3677501_2035195.zip-14         4.443313282375044\n",
      "3677500_2035190.zip-24         4.521824413029666\n",
      "3677501_2035195.zip-12         4.540637005693981\n",
      "3677501_2035195.zip-23         4.637183450687732\n",
      "3677501_2035195.zip-11         4.939649562424886\n",
      "3677502_2035200.zip-11         5.170984080972636\n",
      "3677500_2035190.zip-11         5.481425647569142\n",
      "3677500_2035190.zip-14         5.5254672842820005\n",
      "3677501_2035195.zip-6         5.865028286817527\n",
      "3677500_2035190.zip-23         6.169001566573178\n",
      "3677500_2035190.zip-4         6.283811436115172\n",
      "3677501_2035195.zip-4         6.8468183491859875\n",
      "3677501_2035195.zip-17         7.779919251312552\n",
      "3677454_2025195.zip-3         8.052886051474932\n",
      "3677453_2025190.zip-11         31.541959372346458\n",
      "3677453_2025190.zip-5         139.51611129622015\n",
      "\n",
      "\n",
      "Distance Between 3677454_2025195.zip-18 and its candidate pairs sorted from least to highest:\n",
      "\n",
      "3677454_2025195.zip-4         4.660407468052384\n",
      "3677500_2035190.zip-20         5.742853512840506\n",
      "3677502_2035200.zip-8         6.154024976905908\n",
      "3677502_2035200.zip-24         6.253926628329183\n",
      "3677500_2035190.zip-11         6.613555371603316\n",
      "3677502_2035200.zip-23         6.811747050223467\n",
      "3677502_2035200.zip-9         7.010937059777046\n",
      "3677501_2035195.zip-16         7.043701796443571\n",
      "3677500_2035190.zip-9         7.116242294201789\n",
      "3677502_2035200.zip-22         7.8225398412884894\n",
      "3677502_2035200.zip-16         7.939453656719262\n",
      "3677453_2025190.zip-24         27.233070278591107\n",
      "3677453_2025190.zip-15         28.98276157947752\n",
      "3677453_2025190.zip-1         133.78638781608402\n",
      "3677453_2025190.zip-5         138.27192446493027\n",
      "3677453_2025190.zip-8         142.4380575474198\n",
      "\n",
      "\n"
     ]
    }
   ],
   "source": [
    "extraCreditDifferentFactor(10)"
   ]
  },
  {
   "cell_type": "code",
   "execution_count": 207,
   "metadata": {},
   "outputs": [
    {
     "data": {
      "text/plain": [
       "-832409904158055332"
      ]
     },
     "execution_count": 207,
     "metadata": {},
     "output_type": "execute_result"
    }
   ],
   "source": [
    "hash(\"eewknk\")"
   ]
  },
  {
   "cell_type": "code",
   "execution_count": 358,
   "metadata": {
    "collapsed": true
   },
   "outputs": [],
   "source": [
    "temp = [[j for j in range(500)] for i in range(500)]"
   ]
  },
  {
   "cell_type": "code",
   "execution_count": 359,
   "metadata": {},
   "outputs": [],
   "source": [
    "temp = np.array(temp)\n",
    "temp = np.array(np.split(temp,indices_or_sections=50,axis=1))\n",
    "temp = np.array(np.split(temp,indices_or_sections=50,axis=1))\n",
    "temp = np.mean(temp,axis=(2,3))"
   ]
  },
  {
   "cell_type": "code",
   "execution_count": 360,
   "metadata": {},
   "outputs": [
    {
     "data": {
      "text/plain": [
       "(50, 50)"
      ]
     },
     "execution_count": 360,
     "metadata": {},
     "output_type": "execute_result"
    }
   ],
   "source": [
    "temp.shape"
   ]
  },
  {
   "cell_type": "code",
   "execution_count": 361,
   "metadata": {},
   "outputs": [
    {
     "data": {
      "text/plain": [
       "array([[   4.5,   14.5,   24.5, ...,  474.5,  484.5,  494.5],\n",
       "       [   4.5,   14.5,   24.5, ...,  474.5,  484.5,  494.5],\n",
       "       [   4.5,   14.5,   24.5, ...,  474.5,  484.5,  494.5],\n",
       "       ..., \n",
       "       [   4.5,   14.5,   24.5, ...,  474.5,  484.5,  494.5],\n",
       "       [   4.5,   14.5,   24.5, ...,  474.5,  484.5,  494.5],\n",
       "       [   4.5,   14.5,   24.5, ...,  474.5,  484.5,  494.5]])"
      ]
     },
     "execution_count": 361,
     "metadata": {},
     "output_type": "execute_result"
    }
   ],
   "source": [
    "temp"
   ]
  },
  {
   "cell_type": "code",
   "execution_count": 390,
   "metadata": {},
   "outputs": [],
   "source": [
    "temp = [[[1,2,4,500],[3,4,5,700]],\n",
    "        [[5,7,8,900],[1,3,5,700]]]"
   ]
  },
  {
   "cell_type": "code",
   "execution_count": 391,
   "metadata": {
    "collapsed": true
   },
   "outputs": [],
   "source": [
    "temp = np.array(temp)"
   ]
  },
  {
   "cell_type": "code",
   "execution_count": 392,
   "metadata": {},
   "outputs": [],
   "source": [
    "temp = ((np.mean(temp[:,:,:3],axis=2))*(temp[:,:,3]/100))\n",
    "temp = temp.astype(int)"
   ]
  },
  {
   "cell_type": "code",
   "execution_count": 393,
   "metadata": {},
   "outputs": [
    {
     "name": "stdout",
     "output_type": "stream",
     "text": [
      "[[11 28]\n",
      " [60 21]]\n"
     ]
    }
   ],
   "source": [
    "print(temp)"
   ]
  },
  {
   "cell_type": "code",
   "execution_count": null,
   "metadata": {
    "collapsed": true
   },
   "outputs": [],
   "source": []
  }
 ],
 "metadata": {
  "kernelspec": {
   "display_name": "Python 3",
   "language": "python",
   "name": "python3"
  },
  "language_info": {
   "codemirror_mode": {
    "name": "ipython",
    "version": 3
   },
   "file_extension": ".py",
   "mimetype": "text/x-python",
   "name": "python",
   "nbconvert_exporter": "python",
   "pygments_lexer": "ipython3",
   "version": "3.6.1"
  }
 },
 "nbformat": 4,
 "nbformat_minor": 2
}
